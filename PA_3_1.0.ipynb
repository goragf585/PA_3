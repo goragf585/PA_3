{
 "cells": [
  {
   "cell_type": "markdown",
   "metadata": {},
   "source": [
    "<b>ФИО:</b> <i>Cенчило П. В.</i>;\n",
    "<br><b>ПА №:</b> `3` = <b>Блок</b> № `3`;\n",
    "<br><b>Дата:</b> `2023-09-22`.\n",
    "\n",
    "**Тема:**\n",
    "\"Модуль 3. Нейронные сети — Промежуточная аттестация\""
   ]
  },
  {
   "cell_type": "markdown",
   "metadata": {},
   "source": [
    "# Промежуточная аттестация по сетям искусcтвенных нейронов.\n",
    "\n",
    "## Задание.\n",
    "\n",
    "Ваша **задача** - создать классификатор изображений с помощью `Keras` и свёрточных нейронных сетей для набора данных `Fashion MNIST`.\n",
    "<br>Этот набор данных включает `10` меток с разными типами одежды, с изображениями `28 на 28` (пикселей) в оттенках серого.\n",
    "<br>Имеется обучающий набор из `60 000` изображений и `10 000` тестовых изображений.\n",
    "\n",
    "**Описание классов:**\n",
    "\n",
    "    Label\tDescription\n",
    "    0\t    T-shirt/top\n",
    "    1\t    Trouser\n",
    "    2\t    Pullover\n",
    "    3\t    Dress\n",
    "    4\t    Coat\n",
    "    5\t    Sandal\n",
    "    6\t    Shirt\n",
    "    7\t    Sneaker\n",
    "    8\t    Bag\n",
    "    9\t    Ankle boot\n"
   ]
  },
  {
   "cell_type": "code",
   "execution_count": 1,
   "metadata": {},
   "outputs": [
    {
     "name": "stdout",
     "output_type": "stream",
     "text": [
      "Class Names:\n",
      " ['T-shirt/top', 'Trouser', 'Pullover', 'Dress', 'Coat', 'Sandal', 'Shirt', 'Sneaker', 'Bag', 'Ankle boot']\n",
      "=> Number of Labels = 10\n",
      "Class Numbers:\n",
      " [0, 1, 2, 3, 4, 5, 6, 7, 8, 9]\n"
     ]
    }
   ],
   "source": [
    "Labels_L = [\"T-shirt/top\", \"Trouser\", \"Pullover\", \"Dress\", \"Coat\", \"Sandal\", \"Shirt\", \"Sneaker\", \"Bag\", \"Ankle boot\"]\n",
    "print(\"Class Names:\\n\", Labels_L)\n",
    "\n",
    "Labels_n = len(Labels_L)\n",
    "print(\"=> Number of Labels =\", Labels_n)\n",
    "\n",
    "Classes_L = [0] * Labels_n\n",
    "for i in range(Labels_n):\n",
    "    Classes_L[i] = i\n",
    "print(\"Class Numbers:\\n\", Classes_L)"
   ]
  },
  {
   "cell_type": "markdown",
   "metadata": {},
   "source": [
    "## Данные.\n",
    "\n",
    "**Загружаем данные:**"
   ]
  },
  {
   "cell_type": "code",
   "execution_count": 2,
   "metadata": {},
   "outputs": [
    {
     "name": "stdout",
     "output_type": "stream",
     "text": [
      "Versions of:\n",
      "- TensorFlow:\t 2.9.1\n",
      "- Keras:\t 2.9.0\n"
     ]
    }
   ],
   "source": [
    "import tensorflow as tf\n",
    "from tensorflow import keras\n",
    "from tensorflow.keras import layers\n",
    "from tensorflow.keras import activations\n",
    "\n",
    "import numpy as np\n",
    "import matplotlib.pyplot as plt\n",
    "import pandas as pd\n",
    "\n",
    "print(\"Versions of:\")\n",
    "print(\"- TensorFlow:\\t\", tf.__version__)\n",
    "print(\"- Keras:\\t\", keras.__version__)"
   ]
  },
  {
   "cell_type": "code",
   "execution_count": 3,
   "metadata": {},
   "outputs": [],
   "source": [
    "# Fashion MNIST\n",
    "\n",
    "from tensorflow.keras.datasets import fashion_mnist\n",
    "\n",
    "# X = images, Y = labels\n",
    "(X_train, Y_train), (X_test, Y_test) = fashion_mnist.load_data()"
   ]
  },
  {
   "cell_type": "markdown",
   "metadata": {},
   "source": [
    "## Визуализация дата-сета.\n",
    "\n",
    "**Используйте `MatPlotLib`, чтобы показать пример картинки.**"
   ]
  },
  {
   "cell_type": "code",
   "execution_count": 4,
   "metadata": {},
   "outputs": [
    {
     "data": {
      "image/png": "[encoded data removed]",
      "text/plain": [
       "<Figure size 432x288 with 2 Axes>"
      ]
     },
     "metadata": {
      "needs_background": "light"
     },
     "output_type": "display_data"
    }
   ],
   "source": [
    "plt.figure()\n",
    "plt.title(\"Original - Train Image № 0\")\n",
    "plt.imshow(X_train[0], cmap = 'gray') # <matplotlib.image.AxesImage at 0x1e912d90>\n",
    "plt.colorbar() # extend = \"both\"\n",
    "plt.grid(False)\n",
    "plt.show()"
   ]
  },
  {
   "cell_type": "code",
   "execution_count": 5,
   "metadata": {
    "scrolled": false
   },
   "outputs": [
    {
     "name": "stdout",
     "output_type": "stream",
     "text": [
      "Original - Train Image № 0:\n",
      "- Label: 9 = Ankle boot\n",
      "- Image:\n"
     ]
    },
    {
     "data": {
      "text/plain": [
       "array([[  0,   0,   0,   0,   0,   0,   0,   0,   0,   0,   0,   0,   0,\n",
       "          0,   0,   0,   0,   0,   0,   0,   0,   0,   0,   0,   0,   0,\n",
       "          0,   0],\n",
       "       [  0,   0,   0,   0,   0,   0,   0,   0,   0,   0,   0,   0,   0,\n",
       "          0,   0,   0,   0,   0,   0,   0,   0,   0,   0,   0,   0,   0,\n",
       "          0,   0],\n",
       "       [  0,   0,   0,   0,   0,   0,   0,   0,   0,   0,   0,   0,   0,\n",
       "          0,   0,   0,   0,   0,   0,   0,   0,   0,   0,   0,   0,   0,\n",
       "          0,   0],\n",
       "       [  0,   0,   0,   0,   0,   0,   0,   0,   0,   0,   0,   0,   1,\n",
       "          0,   0,  13,  73,   0,   0,   1,   4,   0,   0,   0,   0,   1,\n",
       "          1,   0],\n",
       "       [  0,   0,   0,   0,   0,   0,   0,   0,   0,   0,   0,   0,   3,\n",
       "          0,  36, 136, 127,  62,  54,   0,   0,   0,   1,   3,   4,   0,\n",
       "          0,   3],\n",
       "       [  0,   0,   0,   0,   0,   0,   0,   0,   0,   0,   0,   0,   6,\n",
       "          0, 102, 204, 176, 134, 144, 123,  23,   0,   0,   0,   0,  12,\n",
       "         10,   0],\n",
       "       [  0,   0,   0,   0,   0,   0,   0,   0,   0,   0,   0,   0,   0,\n",
       "          0, 155, 236, 207, 178, 107, 156, 161, 109,  64,  23,  77, 130,\n",
       "         72,  15],\n",
       "       [  0,   0,   0,   0,   0,   0,   0,   0,   0,   0,   0,   1,   0,\n",
       "         69, 207, 223, 218, 216, 216, 163, 127, 121, 122, 146, 141,  88,\n",
       "        172,  66],\n",
       "       [  0,   0,   0,   0,   0,   0,   0,   0,   0,   1,   1,   1,   0,\n",
       "        200, 232, 232, 233, 229, 223, 223, 215, 213, 164, 127, 123, 196,\n",
       "        229,   0],\n",
       "       [  0,   0,   0,   0,   0,   0,   0,   0,   0,   0,   0,   0,   0,\n",
       "        183, 225, 216, 223, 228, 235, 227, 224, 222, 224, 221, 223, 245,\n",
       "        173,   0],\n",
       "       [  0,   0,   0,   0,   0,   0,   0,   0,   0,   0,   0,   0,   0,\n",
       "        193, 228, 218, 213, 198, 180, 212, 210, 211, 213, 223, 220, 243,\n",
       "        202,   0],\n",
       "       [  0,   0,   0,   0,   0,   0,   0,   0,   0,   1,   3,   0,  12,\n",
       "        219, 220, 212, 218, 192, 169, 227, 208, 218, 224, 212, 226, 197,\n",
       "        209,  52],\n",
       "       [  0,   0,   0,   0,   0,   0,   0,   0,   0,   0,   6,   0,  99,\n",
       "        244, 222, 220, 218, 203, 198, 221, 215, 213, 222, 220, 245, 119,\n",
       "        167,  56],\n",
       "       [  0,   0,   0,   0,   0,   0,   0,   0,   0,   4,   0,   0,  55,\n",
       "        236, 228, 230, 228, 240, 232, 213, 218, 223, 234, 217, 217, 209,\n",
       "         92,   0],\n",
       "       [  0,   0,   1,   4,   6,   7,   2,   0,   0,   0,   0,   0, 237,\n",
       "        226, 217, 223, 222, 219, 222, 221, 216, 223, 229, 215, 218, 255,\n",
       "         77,   0],\n",
       "       [  0,   3,   0,   0,   0,   0,   0,   0,   0,  62, 145, 204, 228,\n",
       "        207, 213, 221, 218, 208, 211, 218, 224, 223, 219, 215, 224, 244,\n",
       "        159,   0],\n",
       "       [  0,   0,   0,   0,  18,  44,  82, 107, 189, 228, 220, 222, 217,\n",
       "        226, 200, 205, 211, 230, 224, 234, 176, 188, 250, 248, 233, 238,\n",
       "        215,   0],\n",
       "       [  0,  57, 187, 208, 224, 221, 224, 208, 204, 214, 208, 209, 200,\n",
       "        159, 245, 193, 206, 223, 255, 255, 221, 234, 221, 211, 220, 232,\n",
       "        246,   0],\n",
       "       [  3, 202, 228, 224, 221, 211, 211, 214, 205, 205, 205, 220, 240,\n",
       "         80, 150, 255, 229, 221, 188, 154, 191, 210, 204, 209, 222, 228,\n",
       "        225,   0],\n",
       "       [ 98, 233, 198, 210, 222, 229, 229, 234, 249, 220, 194, 215, 217,\n",
       "        241,  65,  73, 106, 117, 168, 219, 221, 215, 217, 223, 223, 224,\n",
       "        229,  29],\n",
       "       [ 75, 204, 212, 204, 193, 205, 211, 225, 216, 185, 197, 206, 198,\n",
       "        213, 240, 195, 227, 245, 239, 223, 218, 212, 209, 222, 220, 221,\n",
       "        230,  67],\n",
       "       [ 48, 203, 183, 194, 213, 197, 185, 190, 194, 192, 202, 214, 219,\n",
       "        221, 220, 236, 225, 216, 199, 206, 186, 181, 177, 172, 181, 205,\n",
       "        206, 115],\n",
       "       [  0, 122, 219, 193, 179, 171, 183, 196, 204, 210, 213, 207, 211,\n",
       "        210, 200, 196, 194, 191, 195, 191, 198, 192, 176, 156, 167, 177,\n",
       "        210,  92],\n",
       "       [  0,   0,  74, 189, 212, 191, 175, 172, 175, 181, 185, 188, 189,\n",
       "        188, 193, 198, 204, 209, 210, 210, 211, 188, 188, 194, 192, 216,\n",
       "        170,   0],\n",
       "       [  2,   0,   0,   0,  66, 200, 222, 237, 239, 242, 246, 243, 244,\n",
       "        221, 220, 193, 191, 179, 182, 182, 181, 176, 166, 168,  99,  58,\n",
       "          0,   0],\n",
       "       [  0,   0,   0,   0,   0,   0,   0,  40,  61,  44,  72,  41,  35,\n",
       "          0,   0,   0,   0,   0,   0,   0,   0,   0,   0,   0,   0,   0,\n",
       "          0,   0],\n",
       "       [  0,   0,   0,   0,   0,   0,   0,   0,   0,   0,   0,   0,   0,\n",
       "          0,   0,   0,   0,   0,   0,   0,   0,   0,   0,   0,   0,   0,\n",
       "          0,   0],\n",
       "       [  0,   0,   0,   0,   0,   0,   0,   0,   0,   0,   0,   0,   0,\n",
       "          0,   0,   0,   0,   0,   0,   0,   0,   0,   0,   0,   0,   0,\n",
       "          0,   0]], dtype=uint8)"
      ]
     },
     "execution_count": 5,
     "metadata": {},
     "output_type": "execute_result"
    }
   ],
   "source": [
    "print(\"Original - Train Image № 0:\")\n",
    "print(\"- Label:\", Y_train[0], \"=\", Labels_L[Y_train[0]])\n",
    "print(\"- Image:\")\n",
    "X_train[0]"
   ]
  },
  {
   "cell_type": "markdown",
   "metadata": {},
   "source": [
    "## Предобработка.\n",
    "\n",
    "**Нормализуйте данные `X_train` и `X_test`.**"
   ]
  },
  {
   "cell_type": "code",
   "execution_count": 6,
   "metadata": {},
   "outputs": [
    {
     "name": "stdout",
     "output_type": "stream",
     "text": [
      "max_px = 255\n"
     ]
    }
   ],
   "source": [
    "max_px = 255.0\n",
    "print(\"max_px =\", int(max_px))\n",
    "\n",
    "X_train = X_train / max_px\n",
    "X_test  = X_test  / max_px"
   ]
  },
  {
   "cell_type": "code",
   "execution_count": 7,
   "metadata": {
    "scrolled": false
   },
   "outputs": [
    {
     "name": "stdout",
     "output_type": "stream",
     "text": [
      "Normalized - Train Image № 0:\n",
      "- Image:\n"
     ]
    },
    {
     "data": {
      "text/plain": [
       "array([[0.        , 0.        , 0.        , 0.        , 0.        ,\n",
       "        0.        , 0.        , 0.        , 0.        , 0.        ,\n",
       "        0.        , 0.        , 0.        , 0.        , 0.        ,\n",
       "        0.        , 0.        , 0.        , 0.        , 0.        ,\n",
       "        0.        , 0.        , 0.        , 0.        , 0.        ,\n",
       "        0.        , 0.        , 0.        ],\n",
       "       [0.        , 0.        , 0.        , 0.        , 0.        ,\n",
       "        0.        , 0.        , 0.        , 0.        , 0.        ,\n",
       "        0.        , 0.        , 0.        , 0.        , 0.        ,\n",
       "        0.        , 0.        , 0.        , 0.        , 0.        ,\n",
       "        0.        , 0.        , 0.        , 0.        , 0.        ,\n",
       "        0.        , 0.        , 0.        ],\n",
       "       [0.        , 0.        , 0.        , 0.        , 0.        ,\n",
       "        0.        , 0.        , 0.        , 0.        , 0.        ,\n",
       "        0.        , 0.        , 0.        , 0.        , 0.        ,\n",
       "        0.        , 0.        , 0.        , 0.        , 0.        ,\n",
       "        0.        , 0.        , 0.        , 0.        , 0.        ,\n",
       "        0.        , 0.        , 0.        ],\n",
       "       [0.        , 0.        , 0.        , 0.        , 0.        ,\n",
       "        0.        , 0.        , 0.        , 0.        , 0.        ,\n",
       "        0.        , 0.        , 0.00392157, 0.        , 0.        ,\n",
       "        0.05098039, 0.28627451, 0.        , 0.        , 0.00392157,\n",
       "        0.01568627, 0.        , 0.        , 0.        , 0.        ,\n",
       "        0.00392157, 0.00392157, 0.        ],\n",
       "       [0.        , 0.        , 0.        , 0.        , 0.        ,\n",
       "        0.        , 0.        , 0.        , 0.        , 0.        ,\n",
       "        0.        , 0.        , 0.01176471, 0.        , 0.14117647,\n",
       "        0.53333333, 0.49803922, 0.24313725, 0.21176471, 0.        ,\n",
       "        0.        , 0.        , 0.00392157, 0.01176471, 0.01568627,\n",
       "        0.        , 0.        , 0.01176471],\n",
       "       [0.        , 0.        , 0.        , 0.        , 0.        ,\n",
       "        0.        , 0.        , 0.        , 0.        , 0.        ,\n",
       "        0.        , 0.        , 0.02352941, 0.        , 0.4       ,\n",
       "        0.8       , 0.69019608, 0.5254902 , 0.56470588, 0.48235294,\n",
       "        0.09019608, 0.        , 0.        , 0.        , 0.        ,\n",
       "        0.04705882, 0.03921569, 0.        ],\n",
       "       [0.        , 0.        , 0.        , 0.        , 0.        ,\n",
       "        0.        , 0.        , 0.        , 0.        , 0.        ,\n",
       "        0.        , 0.        , 0.        , 0.        , 0.60784314,\n",
       "        0.9254902 , 0.81176471, 0.69803922, 0.41960784, 0.61176471,\n",
       "        0.63137255, 0.42745098, 0.25098039, 0.09019608, 0.30196078,\n",
       "        0.50980392, 0.28235294, 0.05882353],\n",
       "       [0.        , 0.        , 0.        , 0.        , 0.        ,\n",
       "        0.        , 0.        , 0.        , 0.        , 0.        ,\n",
       "        0.        , 0.00392157, 0.        , 0.27058824, 0.81176471,\n",
       "        0.8745098 , 0.85490196, 0.84705882, 0.84705882, 0.63921569,\n",
       "        0.49803922, 0.4745098 , 0.47843137, 0.57254902, 0.55294118,\n",
       "        0.34509804, 0.6745098 , 0.25882353],\n",
       "       [0.        , 0.        , 0.        , 0.        , 0.        ,\n",
       "        0.        , 0.        , 0.        , 0.        , 0.00392157,\n",
       "        0.00392157, 0.00392157, 0.        , 0.78431373, 0.90980392,\n",
       "        0.90980392, 0.91372549, 0.89803922, 0.8745098 , 0.8745098 ,\n",
       "        0.84313725, 0.83529412, 0.64313725, 0.49803922, 0.48235294,\n",
       "        0.76862745, 0.89803922, 0.        ],\n",
       "       [0.        , 0.        , 0.        , 0.        , 0.        ,\n",
       "        0.        , 0.        , 0.        , 0.        , 0.        ,\n",
       "        0.        , 0.        , 0.        , 0.71764706, 0.88235294,\n",
       "        0.84705882, 0.8745098 , 0.89411765, 0.92156863, 0.89019608,\n",
       "        0.87843137, 0.87058824, 0.87843137, 0.86666667, 0.8745098 ,\n",
       "        0.96078431, 0.67843137, 0.        ],\n",
       "       [0.        , 0.        , 0.        , 0.        , 0.        ,\n",
       "        0.        , 0.        , 0.        , 0.        , 0.        ,\n",
       "        0.        , 0.        , 0.        , 0.75686275, 0.89411765,\n",
       "        0.85490196, 0.83529412, 0.77647059, 0.70588235, 0.83137255,\n",
       "        0.82352941, 0.82745098, 0.83529412, 0.8745098 , 0.8627451 ,\n",
       "        0.95294118, 0.79215686, 0.        ],\n",
       "       [0.        , 0.        , 0.        , 0.        , 0.        ,\n",
       "        0.        , 0.        , 0.        , 0.        , 0.00392157,\n",
       "        0.01176471, 0.        , 0.04705882, 0.85882353, 0.8627451 ,\n",
       "        0.83137255, 0.85490196, 0.75294118, 0.6627451 , 0.89019608,\n",
       "        0.81568627, 0.85490196, 0.87843137, 0.83137255, 0.88627451,\n",
       "        0.77254902, 0.81960784, 0.20392157],\n",
       "       [0.        , 0.        , 0.        , 0.        , 0.        ,\n",
       "        0.        , 0.        , 0.        , 0.        , 0.        ,\n",
       "        0.02352941, 0.        , 0.38823529, 0.95686275, 0.87058824,\n",
       "        0.8627451 , 0.85490196, 0.79607843, 0.77647059, 0.86666667,\n",
       "        0.84313725, 0.83529412, 0.87058824, 0.8627451 , 0.96078431,\n",
       "        0.46666667, 0.65490196, 0.21960784],\n",
       "       [0.        , 0.        , 0.        , 0.        , 0.        ,\n",
       "        0.        , 0.        , 0.        , 0.        , 0.01568627,\n",
       "        0.        , 0.        , 0.21568627, 0.9254902 , 0.89411765,\n",
       "        0.90196078, 0.89411765, 0.94117647, 0.90980392, 0.83529412,\n",
       "        0.85490196, 0.8745098 , 0.91764706, 0.85098039, 0.85098039,\n",
       "        0.81960784, 0.36078431, 0.        ],\n",
       "       [0.        , 0.        , 0.00392157, 0.01568627, 0.02352941,\n",
       "        0.02745098, 0.00784314, 0.        , 0.        , 0.        ,\n",
       "        0.        , 0.        , 0.92941176, 0.88627451, 0.85098039,\n",
       "        0.8745098 , 0.87058824, 0.85882353, 0.87058824, 0.86666667,\n",
       "        0.84705882, 0.8745098 , 0.89803922, 0.84313725, 0.85490196,\n",
       "        1.        , 0.30196078, 0.        ],\n",
       "       [0.        , 0.01176471, 0.        , 0.        , 0.        ,\n",
       "        0.        , 0.        , 0.        , 0.        , 0.24313725,\n",
       "        0.56862745, 0.8       , 0.89411765, 0.81176471, 0.83529412,\n",
       "        0.86666667, 0.85490196, 0.81568627, 0.82745098, 0.85490196,\n",
       "        0.87843137, 0.8745098 , 0.85882353, 0.84313725, 0.87843137,\n",
       "        0.95686275, 0.62352941, 0.        ],\n",
       "       [0.        , 0.        , 0.        , 0.        , 0.07058824,\n",
       "        0.17254902, 0.32156863, 0.41960784, 0.74117647, 0.89411765,\n",
       "        0.8627451 , 0.87058824, 0.85098039, 0.88627451, 0.78431373,\n",
       "        0.80392157, 0.82745098, 0.90196078, 0.87843137, 0.91764706,\n",
       "        0.69019608, 0.7372549 , 0.98039216, 0.97254902, 0.91372549,\n",
       "        0.93333333, 0.84313725, 0.        ],\n",
       "       [0.        , 0.22352941, 0.73333333, 0.81568627, 0.87843137,\n",
       "        0.86666667, 0.87843137, 0.81568627, 0.8       , 0.83921569,\n",
       "        0.81568627, 0.81960784, 0.78431373, 0.62352941, 0.96078431,\n",
       "        0.75686275, 0.80784314, 0.8745098 , 1.        , 1.        ,\n",
       "        0.86666667, 0.91764706, 0.86666667, 0.82745098, 0.8627451 ,\n",
       "        0.90980392, 0.96470588, 0.        ],\n",
       "       [0.01176471, 0.79215686, 0.89411765, 0.87843137, 0.86666667,\n",
       "        0.82745098, 0.82745098, 0.83921569, 0.80392157, 0.80392157,\n",
       "        0.80392157, 0.8627451 , 0.94117647, 0.31372549, 0.58823529,\n",
       "        1.        , 0.89803922, 0.86666667, 0.7372549 , 0.60392157,\n",
       "        0.74901961, 0.82352941, 0.8       , 0.81960784, 0.87058824,\n",
       "        0.89411765, 0.88235294, 0.        ],\n",
       "       [0.38431373, 0.91372549, 0.77647059, 0.82352941, 0.87058824,\n",
       "        0.89803922, 0.89803922, 0.91764706, 0.97647059, 0.8627451 ,\n",
       "        0.76078431, 0.84313725, 0.85098039, 0.94509804, 0.25490196,\n",
       "        0.28627451, 0.41568627, 0.45882353, 0.65882353, 0.85882353,\n",
       "        0.86666667, 0.84313725, 0.85098039, 0.8745098 , 0.8745098 ,\n",
       "        0.87843137, 0.89803922, 0.11372549],\n",
       "       [0.29411765, 0.8       , 0.83137255, 0.8       , 0.75686275,\n",
       "        0.80392157, 0.82745098, 0.88235294, 0.84705882, 0.7254902 ,\n",
       "        0.77254902, 0.80784314, 0.77647059, 0.83529412, 0.94117647,\n",
       "        0.76470588, 0.89019608, 0.96078431, 0.9372549 , 0.8745098 ,\n",
       "        0.85490196, 0.83137255, 0.81960784, 0.87058824, 0.8627451 ,\n",
       "        0.86666667, 0.90196078, 0.2627451 ],\n",
       "       [0.18823529, 0.79607843, 0.71764706, 0.76078431, 0.83529412,\n",
       "        0.77254902, 0.7254902 , 0.74509804, 0.76078431, 0.75294118,\n",
       "        0.79215686, 0.83921569, 0.85882353, 0.86666667, 0.8627451 ,\n",
       "        0.9254902 , 0.88235294, 0.84705882, 0.78039216, 0.80784314,\n",
       "        0.72941176, 0.70980392, 0.69411765, 0.6745098 , 0.70980392,\n",
       "        0.80392157, 0.80784314, 0.45098039],\n",
       "       [0.        , 0.47843137, 0.85882353, 0.75686275, 0.70196078,\n",
       "        0.67058824, 0.71764706, 0.76862745, 0.8       , 0.82352941,\n",
       "        0.83529412, 0.81176471, 0.82745098, 0.82352941, 0.78431373,\n",
       "        0.76862745, 0.76078431, 0.74901961, 0.76470588, 0.74901961,\n",
       "        0.77647059, 0.75294118, 0.69019608, 0.61176471, 0.65490196,\n",
       "        0.69411765, 0.82352941, 0.36078431],\n",
       "       [0.        , 0.        , 0.29019608, 0.74117647, 0.83137255,\n",
       "        0.74901961, 0.68627451, 0.6745098 , 0.68627451, 0.70980392,\n",
       "        0.7254902 , 0.7372549 , 0.74117647, 0.7372549 , 0.75686275,\n",
       "        0.77647059, 0.8       , 0.81960784, 0.82352941, 0.82352941,\n",
       "        0.82745098, 0.7372549 , 0.7372549 , 0.76078431, 0.75294118,\n",
       "        0.84705882, 0.66666667, 0.        ],\n",
       "       [0.00784314, 0.        , 0.        , 0.        , 0.25882353,\n",
       "        0.78431373, 0.87058824, 0.92941176, 0.9372549 , 0.94901961,\n",
       "        0.96470588, 0.95294118, 0.95686275, 0.86666667, 0.8627451 ,\n",
       "        0.75686275, 0.74901961, 0.70196078, 0.71372549, 0.71372549,\n",
       "        0.70980392, 0.69019608, 0.65098039, 0.65882353, 0.38823529,\n",
       "        0.22745098, 0.        , 0.        ],\n",
       "       [0.        , 0.        , 0.        , 0.        , 0.        ,\n",
       "        0.        , 0.        , 0.15686275, 0.23921569, 0.17254902,\n",
       "        0.28235294, 0.16078431, 0.1372549 , 0.        , 0.        ,\n",
       "        0.        , 0.        , 0.        , 0.        , 0.        ,\n",
       "        0.        , 0.        , 0.        , 0.        , 0.        ,\n",
       "        0.        , 0.        , 0.        ],\n",
       "       [0.        , 0.        , 0.        , 0.        , 0.        ,\n",
       "        0.        , 0.        , 0.        , 0.        , 0.        ,\n",
       "        0.        , 0.        , 0.        , 0.        , 0.        ,\n",
       "        0.        , 0.        , 0.        , 0.        , 0.        ,\n",
       "        0.        , 0.        , 0.        , 0.        , 0.        ,\n",
       "        0.        , 0.        , 0.        ],\n",
       "       [0.        , 0.        , 0.        , 0.        , 0.        ,\n",
       "        0.        , 0.        , 0.        , 0.        , 0.        ,\n",
       "        0.        , 0.        , 0.        , 0.        , 0.        ,\n",
       "        0.        , 0.        , 0.        , 0.        , 0.        ,\n",
       "        0.        , 0.        , 0.        , 0.        , 0.        ,\n",
       "        0.        , 0.        , 0.        ]])"
      ]
     },
     "execution_count": 7,
     "metadata": {},
     "output_type": "execute_result"
    }
   ],
   "source": [
    "print(\"Normalized - Train Image № 0:\")\n",
    "print(\"- Image:\")\n",
    "X_train[0]"
   ]
  },
  {
   "cell_type": "code",
   "execution_count": 8,
   "metadata": {},
   "outputs": [
    {
     "data": {
      "image/png": "[encoded data removed]",
      "text/plain": [
       "<Figure size 432x288 with 2 Axes>"
      ]
     },
     "metadata": {
      "needs_background": "light"
     },
     "output_type": "display_data"
    }
   ],
   "source": [
    "plt.figure()\n",
    "plt.title(\"Normalized - Train Image № 0\")\n",
    "plt.imshow(X_train[0], cmap = 'gray') # <matplotlib.image.AxesImage at 0x1e912d90>\n",
    "plt.colorbar() # extend = \"both\"\n",
    "plt.grid(False)\n",
    "plt.show()"
   ]
  },
  {
   "cell_type": "markdown",
   "metadata": {},
   "source": [
    "**Измените форму массивов `X_train` и `X_test` так, чтобы они стали `4`-хмерными (`batch_size x channels x Height x Width`).**"
   ]
  },
  {
   "cell_type": "code",
   "execution_count": 9,
   "metadata": {},
   "outputs": [],
   "source": [
    "#"
   ]
  },
  {
   "cell_type": "code",
   "execution_count": 10,
   "metadata": {},
   "outputs": [
    {
     "name": "stdout",
     "output_type": "stream",
     "text": [
      "0) Old:\n",
      "Shapes of:\n",
      "- Images:\n",
      "-- Train: (60000, 28, 28)\n",
      "-- Test : (10000, 28, 28)\n",
      "- Labels:\n",
      "-- Train: (60000,)\n",
      "-- Test : (10000,)\n",
      "\n",
      "Length of [X_train] = 60000\n",
      "Length of [X_test ] = 10000\n"
     ]
    }
   ],
   "source": [
    "print(\"0) Old:\")\n",
    "print(\"Shapes of:\")\n",
    "print(\"- Images:\")\n",
    "print(\"-- Train:\", X_train.shape)\n",
    "print(\"-- Test :\", X_test.shape)\n",
    "print(\"- Labels:\")\n",
    "print(\"-- Train:\", Y_train.shape)\n",
    "print(\"-- Test :\", Y_test.shape)\n",
    "\n",
    "print()\n",
    "len_X_train = len(X_train)\n",
    "len_X_test = len(X_test)\n",
    "print(\"Length of [X_train] =\", len_X_train)\n",
    "print(\"Length of [X_test ] =\", len_X_test)"
   ]
  },
  {
   "cell_type": "code",
   "execution_count": 11,
   "metadata": {},
   "outputs": [
    {
     "name": "stdout",
     "output_type": "stream",
     "text": [
      "Height = 28 (px)\n",
      "Width  = 28 (px)\n"
     ]
    }
   ],
   "source": [
    "H = 28\n",
    "W = H\n",
    "print(\"Height =\", H, \"(px)\")\n",
    "print(\"Width  =\", W, \"(px)\")"
   ]
  },
  {
   "cell_type": "code",
   "execution_count": 12,
   "metadata": {},
   "outputs": [],
   "source": [
    "# Reshape from 3-D to a 4-D Array of Images: (batch_size, channels, height, width) # NCHW\n",
    "# New Shape: (batch, 1, 28, 28)\n",
    "new_X_train = tf.reshape(X_train, shape = [-1, 1, H, W])\n",
    "new_X_test  = tf.reshape(X_test,  shape = [-1, 1, H, W])"
   ]
  },
  {
   "cell_type": "code",
   "execution_count": 13,
   "metadata": {},
   "outputs": [
    {
     "name": "stdout",
     "output_type": "stream",
     "text": [
      "new_X_train = ...\n",
      "=> Shape = (60000 * 1 * 28 * 28)\n",
      "60000 * 1 = 60000 == 60000\n"
     ]
    }
   ],
   "source": [
    "new_X_train_N = len(new_X_train)\n",
    "new_X_train_C = len(new_X_train[0])\n",
    "\n",
    "print(\"new_X_train = ...\")\n",
    "#print(new_X_train)\n",
    "\n",
    "print(\"=> Shape = (\" + str(new_X_train_N) + \" * \" + str(new_X_train_C) + \" * \" + str(H) + \" * \" + str(W) + \")\")\n",
    "print(new_X_train_N, \"*\", new_X_train_C, \"=\", new_X_train_N * new_X_train_C, \"==\", len_X_train)\n",
    "\n",
    "#new_X_train[100] # shape = (1, 28, 28)"
   ]
  },
  {
   "cell_type": "code",
   "execution_count": 14,
   "metadata": {},
   "outputs": [
    {
     "name": "stdout",
     "output_type": "stream",
     "text": [
      "new_X_test = ...\n",
      "=> Shape = (10000 * 1 * 28 * 28)\n",
      "10000 * 1 = 10000 == 10000\n"
     ]
    }
   ],
   "source": [
    "new_X_test_N = len(new_X_test)\n",
    "new_X_test_C = len(new_X_test[0])\n",
    "\n",
    "print(\"new_X_test = ...\")\n",
    "#print(new_X_test)\n",
    "\n",
    "print(\"=> Shape = (\" + str(new_X_test_N) + \" * \" + str(new_X_train_C) + \" * \" + str(H) + \" * \" + str(W) + \")\")\n",
    "print(new_X_test_N, \"*\", new_X_test_C, \"=\", new_X_test_N * new_X_test_C, \"==\", len_X_test)"
   ]
  },
  {
   "cell_type": "code",
   "execution_count": 15,
   "metadata": {},
   "outputs": [
    {
     "name": "stdout",
     "output_type": "stream",
     "text": [
      "1) New:\n",
      "Shapes of:\n",
      "- Images:\n",
      "-- Train: (60000, 1, 28, 28)\n",
      "-- Test : (10000, 1, 28, 28)\n"
     ]
    }
   ],
   "source": [
    "print(\"1) New:\")\n",
    "print(\"Shapes of:\")\n",
    "print(\"- Images:\")\n",
    "print(\"-- Train:\",  new_X_train.shape)\n",
    "print(\"-- Test :\", new_X_test.shape)"
   ]
  },
  {
   "cell_type": "markdown",
   "metadata": {},
   "source": [
    "**Преобразуйте  `y_train` и `y_test` в `one_hot`-представления.**"
   ]
  },
  {
   "cell_type": "code",
   "execution_count": 16,
   "metadata": {},
   "outputs": [
    {
     "name": "stdout",
     "output_type": "stream",
     "text": [
      "\n",
      "a) TensorFlow (TF):\n",
      "\n",
      "depth = 10\n",
      "\n",
      "[0, 1, 2, 3, 4, 5, 6, 7, 8, 9]\n",
      "\n",
      "One Hot Encoded Y_ Labels of X_ Objects:\n",
      "- Train:\n",
      "new_a_Y_train =\n",
      "tf.Tensor(\n",
      "[[0. 0. 0. ... 0. 0. 1.]\n",
      " [1. 0. 0. ... 0. 0. 0.]\n",
      " [1. 0. 0. ... 0. 0. 0.]\n",
      " ...\n",
      " [0. 0. 0. ... 0. 0. 0.]\n",
      " [1. 0. 0. ... 0. 0. 0.]\n",
      " [0. 0. 0. ... 0. 0. 0.]], shape=(60000, 10), dtype=float32)\n",
      "- Test :\n",
      "new_a_Y_test  =\n",
      "tf.Tensor(\n",
      "[[0. 0. 0. ... 0. 0. 1.]\n",
      " [0. 0. 1. ... 0. 0. 0.]\n",
      " [0. 1. 0. ... 0. 0. 0.]\n",
      " ...\n",
      " [0. 0. 0. ... 0. 1. 0.]\n",
      " [0. 1. 0. ... 0. 0. 0.]\n",
      " [0. 0. 0. ... 0. 0. 0.]], shape=(10000, 10), dtype=float32)\n"
     ]
    }
   ],
   "source": [
    "print(\"\\na) TensorFlow (TF):\\n\")\n",
    "\n",
    "depth = Labels_n \n",
    "print(\"depth =\", depth)\n",
    "\n",
    "print()\n",
    "print(Classes_L)\n",
    "\n",
    "print(\"\\nOne Hot Encoded Y_ Labels of X_ Objects:\")\n",
    "print(\"- Train:\")\n",
    "new_a_Y_train = tf.one_hot(Y_train, depth)\n",
    "print(\"new_a_Y_train =\")\n",
    "print(new_a_Y_train)\n",
    "print(\"- Test :\")\n",
    "new_a_Y_test  = tf.one_hot(Y_test,  depth)\n",
    "print(\"new_a_Y_test  =\")\n",
    "print(new_a_Y_test)"
   ]
  },
  {
   "cell_type": "code",
   "execution_count": 17,
   "metadata": {},
   "outputs": [
    {
     "name": "stdout",
     "output_type": "stream",
     "text": [
      "\n",
      "b) Keras:\n",
      "\n",
      "[0, 1, 2, 3, 4, 5, 6, 7, 8, 9]\n",
      "\n",
      "One Hot Encoded Y_ Labels of X_ Objects:\n",
      "- Train:\n",
      "new_b_Y_train =\n",
      "[[0. 0. 0. ... 0. 0. 1.]\n",
      " [1. 0. 0. ... 0. 0. 0.]\n",
      " [1. 0. 0. ... 0. 0. 0.]\n",
      " ...\n",
      " [0. 0. 0. ... 0. 0. 0.]\n",
      " [1. 0. 0. ... 0. 0. 0.]\n",
      " [0. 0. 0. ... 0. 0. 0.]]\n",
      "- Test :\n",
      "new_b_Y_test  =\n",
      "[[0. 0. 0. ... 0. 0. 1.]\n",
      " [0. 0. 1. ... 0. 0. 0.]\n",
      " [0. 1. 0. ... 0. 0. 0.]\n",
      " ...\n",
      " [0. 0. 0. ... 0. 1. 0.]\n",
      " [0. 1. 0. ... 0. 0. 0.]\n",
      " [0. 0. 0. ... 0. 0. 0.]]\n"
     ]
    }
   ],
   "source": [
    "print(\"\\nb) Keras:\")\n",
    "\n",
    "# num_classes = Total number of classes. If None, this would be inferred as max(y) + 1.\n",
    "\n",
    "print()\n",
    "print(Classes_L)\n",
    "\n",
    "print(\"\\nOne Hot Encoded Y_ Labels of X_ Objects:\")\n",
    "print(\"- Train:\")\n",
    "new_b_Y_train = tf.keras.utils.to_categorical(Y_train, num_classes = Labels_n)\n",
    "print(\"new_b_Y_train =\")\n",
    "print(new_b_Y_train)\n",
    "print(\"- Test :\")\n",
    "new_b_Y_test  = tf.keras.utils.to_categorical(Y_test, num_classes = Labels_n)\n",
    "print(\"new_b_Y_test  =\")\n",
    "print(new_b_Y_test)"
   ]
  },
  {
   "cell_type": "markdown",
   "metadata": {},
   "source": [
    "## Создайте модель.\n",
    "\n",
    "**(При выполнении задания вы можете поэкспериментировать со слоями.)\n",
    "<br> Примерная структура модели:**\n",
    "\n",
    "1. Свёрточный слой, `32` фильтра, размер ядра `= (4, 4)`;\n",
    "2. Пулинг с `pool_size = (2, 2)`;\n",
    "3. Выпрямляющий слой (`Flatten`);\n",
    "4. Полносвязный слой (например, `128` нейронов), `RELU`;\n",
    "5. Выходной полносвязный слой с `10` нейронами с `SoftMax`.\n",
    "\n",
    "**При компиляции укажите `loss = 'categorical_crossentropy', optimizer = 'rmsprop', metrics = ['accuracy']`.**"
   ]
  },
  {
   "cell_type": "code",
   "execution_count": 18,
   "metadata": {},
   "outputs": [],
   "source": [
    "def Filters(Layer):\n",
    "    #\n",
    "    filters_L, bias_L = Layer.get_weights() # model.layers[0]\n",
    "    print(\"\\n2D Convolutional Layer Name:\", Layer.name)\n",
    "    print(\"Filter Shape:\", filters_L.shape)\n",
    "    \n",
    "    print(\"\\nfilters_L:\")\n",
    "    print(filters_L)\n",
    "    \n",
    "    print(\"\\nbias_L:\")\n",
    "    print(bias_L)\n",
    "    \n",
    "    f_min, f_max = filters_L.min(), filters_L.max()\n",
    "    filters_L = (filters_L - f_min) / (f_max - f_min)\n",
    "    print(\"\\nNormalized filters_L:\")\n",
    "    print(filters_L)\n",
    "    \n",
    "    n_filters = 32 #\n",
    "    print(\"\\nNumber of Filters =\", n_filters)\n",
    "\n",
    "    n_cols = 1\n",
    "    n_rows = int(n_filters / n_cols)\n",
    "    ix = 1 #\n",
    "    print(\"\\nAll the Filters:\")\n",
    "    fig, axes = plt.subplots(nrows = n_rows, ncols = n_cols, dpi = 100, figsize = (50, 50))\n",
    "    for i in range(n_filters):\n",
    "        f = filters_L[:,:,:,i]\n",
    "        for j in range(1): \n",
    "            # SubPlot for 32 Filters and 1 Channel\n",
    "            plt.subplot(n_filters, 1, ix) #\n",
    "            plt.subplots_adjust(left = 0.1, bottom = 0.1, right = 0.9, top = 1.5, wspace = 0.4, hspace = 0.4)\n",
    "            plt.title(\"Filter № \" + str(i))\n",
    "            plt.imshow(f[:,:,j], cmap = 'gray')\n",
    "            ix += 1 #\n",
    "    plt.show()    \n",
    "    \n",
    "    return()"
   ]
  },
  {
   "cell_type": "raw",
   "metadata": {},
   "source": [
    "# (При выполнении задания вы можете поэкспериментировать со слоями.)"
   ]
  },
  {
   "cell_type": "code",
   "execution_count": 19,
   "metadata": {},
   "outputs": [],
   "source": [
    "def Build_Model():\n",
    "\n",
    "    # 2D = (N, (H, W), C)\n",
    "    Layer_1_Conv2D = tf.keras.layers.Conv2D(filters = 32, kernel_size = (4, 4), padding = 'same', data_format = 'channels_last', activation = None)\n",
    "    #Layer_1_Conv2D = tf.keras.layers.Conv2D(filters = 32, kernel_size = (4, 4), padding = 'same', data_format = 'channels_first', activation = 'relu', input_shape = (28, 28, 10))\n",
    "    \n",
    "    Layer_2_Pool = tf.keras.layers.MaxPooling2D(pool_size = (2, 2), padding='same', data_format = 'channels_last') #\n",
    "    \n",
    "    Layer_3_Flat = tf.keras.layers.Flatten(data_format = 'channels_last') #input_shape = (28, 28, 1)) #\n",
    "    \n",
    "    # tf.keras.layers.Dense(activation='relu') = tf.keras.layers.ReLu()\n",
    "    #Layer_4_ReLU = tf.keras.layers.ReLU()\n",
    "    Layer_4_ReLU = tf.keras.layers.Dense(units = 128, activation = 'relu')\n",
    "    \n",
    "    # tf.keras.layers.Dense(activation='softmax') = tf.keras.layers.Softmax()\n",
    "    #Layer_5_SoftMax = tf.keras.layers.Softmax()    \n",
    "    Layer_5_SoftMax = tf.keras.layers.Dense(units = 10, activation = 'softmax')\n",
    "    \n",
    "    #model.add(layers.Dense(128))\n",
    "    #model.add(layers.Activation(activations.relu))    \n",
    "    \n",
    "    model = tf.keras.Sequential([\n",
    "        Layer_1_Conv2D,\n",
    "        Layer_2_Pool,\n",
    "        Layer_3_Flat,\n",
    "        Layer_4_ReLU,\n",
    "        Layer_5_SoftMax\n",
    "    ])\n",
    "\n",
    "    ML = model.layers\n",
    "    print(\"Model Layers:\", len(ML))\n",
    "    print(\":\", ML)   \n",
    "\n",
    "    model.compile(optimizer = 'rmsprop', loss = 'categorical_crossentropy', metrics = ['accuracy'])\n",
    "    \n",
    "    return(model)"
   ]
  },
  {
   "cell_type": "code",
   "execution_count": 20,
   "metadata": {},
   "outputs": [],
   "source": [
    "#model = tf.keras.Sequential()\n",
    "#model.add(Layer_1_Conv2D)\n",
    "#model.add(Layer_2_Pool)\n",
    "#model.add(Layer_3_Flat)\n",
    "#model.add(Layer_4_ReLU)\n",
    "#model.add(Layer_5_SoftMax)\n",
    "\n",
    "#ML = model.layers\n",
    "#print(\"Model Layers:\", len(ML))\n",
    "#print(\":\", ML)"
   ]
  },
  {
   "cell_type": "code",
   "execution_count": 23,
   "metadata": {},
   "outputs": [
    {
     "name": "stdout",
     "output_type": "stream",
     "text": [
      "Model Layers: 5\n",
      ": [<keras.layers.convolutional.conv2d.Conv2D object at 0x000000001C4B7340>, <keras.layers.pooling.max_pooling2d.MaxPooling2D object at 0x000000001C4B7310>, <keras.layers.reshaping.flatten.Flatten object at 0x000000001C4B73D0>, <keras.layers.core.dense.Dense object at 0x000000001C4B7BB0>, <keras.layers.core.dense.Dense object at 0x000000001C4B7C40>]\n"
     ]
    }
   ],
   "source": [
    "model_0 = Build_Model()"
   ]
  },
  {
   "cell_type": "code",
   "execution_count": 25,
   "metadata": {},
   "outputs": [
    {
     "name": "stdout",
     "output_type": "stream",
     "text": [
      "Model Layers: 5\n",
      ": [<keras.layers.convolutional.conv2d.Conv2D object at 0x000000001C170190>, <keras.layers.pooling.max_pooling2d.MaxPooling2D object at 0x000000001C4B7040>, <keras.layers.reshaping.flatten.Flatten object at 0x000000001C170340>, <keras.layers.core.dense.Dense object at 0x000000001C4B38B0>, <keras.layers.core.dense.Dense object at 0x000000001C4B3790>]\n"
     ]
    }
   ],
   "source": [
    "model_1 = Build_Model()"
   ]
  },
  {
   "cell_type": "markdown",
   "metadata": {},
   "source": [
    "### Тренировка модели.\n",
    "**Тренируем модель на `X_train`. \n",
    "<br> Число эпох выберите самостоятельно.**"
   ]
  },
  {
   "cell_type": "code",
   "execution_count": 26,
   "metadata": {},
   "outputs": [],
   "source": [
    "#"
   ]
  },
  {
   "cell_type": "code",
   "execution_count": 27,
   "metadata": {},
   "outputs": [
    {
     "name": "stdout",
     "output_type": "stream",
     "text": [
      "Number of Epochs = 10\n",
      "\n",
      "Epoch 1/10\n",
      "1875/1875 [==============================] - 37s 19ms/step - loss: 0.4731 - accuracy: 0.8307\n",
      "Epoch 2/10\n",
      "1875/1875 [==============================] - 29s 15ms/step - loss: 0.3452 - accuracy: 0.8762\n",
      "Epoch 3/10\n",
      "1875/1875 [==============================] - 27s 14ms/step - loss: 0.3127 - accuracy: 0.8882\n",
      "Epoch 4/10\n",
      "1875/1875 [==============================] - 27s 15ms/step - loss: 0.2924 - accuracy: 0.8947\n",
      "Epoch 5/10\n",
      "1875/1875 [==============================] - 29s 15ms/step - loss: 0.2779 - accuracy: 0.9004\n",
      "Epoch 6/10\n",
      "1875/1875 [==============================] - 28s 15ms/step - loss: 0.2660 - accuracy: 0.9037\n",
      "Epoch 7/10\n",
      "1875/1875 [==============================] - 30s 16ms/step - loss: 0.2582 - accuracy: 0.9068\n",
      "Epoch 8/10\n",
      "1875/1875 [==============================] - 28s 15ms/step - loss: 0.2487 - accuracy: 0.9108\n",
      "Epoch 9/10\n",
      "1875/1875 [==============================] - 28s 15ms/step - loss: 0.2413 - accuracy: 0.9136\n",
      "Epoch 10/10\n",
      "1875/1875 [==============================] - 29s 15ms/step - loss: 0.2344 - accuracy: 0.9175\n"
     ]
    },
    {
     "data": {
      "text/plain": [
       "<keras.callbacks.History at 0x1c2a5100>"
      ]
     },
     "execution_count": 27,
     "metadata": {},
     "output_type": "execute_result"
    }
   ],
   "source": [
    "epochs_n = 10\n",
    "print(\"Number of Epochs =\", epochs_n)\n",
    "print()\n",
    "model_1.fit(x = new_X_train, y = new_a_Y_train, epochs = epochs_n) # batch_size = 32"
   ]
  },
  {
   "cell_type": "code",
   "execution_count": 28,
   "metadata": {},
   "outputs": [],
   "source": [
    "# <keras.callbacks.History at 0x1c752be0>"
   ]
  },
  {
   "cell_type": "code",
   "execution_count": 29,
   "metadata": {},
   "outputs": [
    {
     "name": "stdout",
     "output_type": "stream",
     "text": [
      "Model_1 Summary:\n",
      "\n",
      "Model: \"sequential_4\"\n",
      "_________________________________________________________________\n",
      " Layer (type)                Output Shape              Param #   \n",
      "=================================================================\n",
      " conv2d_4 (Conv2D)           (32, 1, 28, 32)           14368     \n",
      "                                                                 \n",
      " max_pooling2d_4 (MaxPooling  (32, 1, 14, 32)          0         \n",
      " 2D)                                                             \n",
      "                                                                 \n",
      " flatten_4 (Flatten)         (32, 448)                 0         \n",
      "                                                                 \n",
      " dense_8 (Dense)             (32, 128)                 57472     \n",
      "                                                                 \n",
      " dense_9 (Dense)             (32, 10)                  1290      \n",
      "                                                                 \n",
      "=================================================================\n",
      "Total params: 73,130\n",
      "Trainable params: 73,130\n",
      "Non-trainable params: 0\n",
      "_________________________________________________________________\n"
     ]
    }
   ],
   "source": [
    "print(\"Model_1 Summary:\\n\")\n",
    "model_1.summary()"
   ]
  },
  {
   "cell_type": "code",
   "execution_count": 30,
   "metadata": {},
   "outputs": [
    {
     "name": "stdout",
     "output_type": "stream",
     "text": [
      "32 * 1875 = 60000 == 60000\n"
     ]
    }
   ],
   "source": [
    "BS = 32 # batch_size\n",
    "img_n = 1875\n",
    "print(BS, \"*\", img_n, \"=\", BS * img_n, \"==\", len_X_train)"
   ]
  },
  {
   "cell_type": "markdown",
   "metadata": {},
   "source": [
    "### Оценка модели.\n",
    "\n",
    "**Оцените модель по метрикам `accuracy`, `precision`, `recall`, `f1-score` на тестовой выборке `X_test`.**"
   ]
  },
  {
   "cell_type": "raw",
   "metadata": {},
   "source": [
    "evaluate(\n",
    "    x=None,\n",
    "    y=None,\n",
    "    batch_size=None,\n",
    "    verbose='auto',\n",
    "    sample_weight=None,\n",
    "    steps=None,\n",
    "    callbacks=None,\n",
    "    max_queue_size=10,\n",
    "    workers=1,\n",
    "    use_multiprocessing=False,\n",
    "    return_dict=False,\n",
    "    **kwargs\n",
    ")"
   ]
  },
  {
   "cell_type": "code",
   "execution_count": 31,
   "metadata": {},
   "outputs": [
    {
     "name": "stdout",
     "output_type": "stream",
     "text": [
      "313/313 [==============================] - 3s 8ms/step - loss: 0.3779 - accuracy: 0.8856\n",
      "Metrics: {'loss': 0.37790119647979736, 'accuracy': 0.8855999708175659}\n",
      ": a) Accuracy = 0.8855999708175659\n"
     ]
    }
   ],
   "source": [
    "a_Metrics = model_1.evaluate(x = new_X_test, y = new_a_Y_test, return_dict = True)\n",
    "# 313/313 [==============================] - 2s 6ms/step - loss: 0.3674 - accuracy: 0.8862\n",
    "# 313/313 [==============================] - 2s 7ms/step - loss: 0.3634 - accuracy: 0.8867\n",
    "print(\"Metrics:\", a_Metrics)\n",
    "\n",
    "a_Acc = a_Metrics['accuracy']\n",
    "print(\": a) Accuracy =\", a_Acc)"
   ]
  },
  {
   "cell_type": "code",
   "execution_count": 34,
   "metadata": {},
   "outputs": [
    {
     "name": "stdout",
     "output_type": "stream",
     "text": [
      "313/313 [==============================] - 2s 7ms/step - loss: 0.3779 - accuracy: 0.8856\n",
      "Metrics: [0.37790119647979736, 0.8855999708175659]\n",
      ": b) Accuracy = 0.8855999708175659\n"
     ]
    }
   ],
   "source": [
    "b_Metrics = model_1.evaluate(x = new_X_test, y = new_b_Y_test, return_dict = False)\n",
    "# 313/313 [==============================] - 2s 7ms/step - loss: 0.3674 - accuracy: 0.8862\n",
    "# 313/313 [==============================] - 2s 7ms/step - loss: 0.3634 - accuracy: 0.8867\n",
    "print(\"Metrics:\", b_Metrics)\n",
    "\n",
    "b_Acc = b_Metrics[1]\n",
    "print(\": b) Accuracy =\", b_Acc)"
   ]
  },
  {
   "cell_type": "code",
   "execution_count": 33,
   "metadata": {},
   "outputs": [
    {
     "name": "stdout",
     "output_type": "stream",
     "text": [
      "Model Metrics Names:\n",
      "['loss', 'accuracy']\n"
     ]
    }
   ],
   "source": [
    "print(\"Model_1 Metrics Names:\")\n",
    "print(model_1.metrics_names) # ['loss', 'acc']"
   ]
  },
  {
   "cell_type": "raw",
   "metadata": {},
   "source": [
    "predict(\n",
    "    x,\n",
    "    batch_size=None,\n",
    "    verbose='auto',\n",
    "    steps=None,\n",
    "    callbacks=None,\n",
    "    max_queue_size=10,\n",
    "    workers=1,\n",
    "    use_multiprocessing=False\n",
    ")"
   ]
  },
  {
   "cell_type": "code",
   "execution_count": 35,
   "metadata": {},
   "outputs": [],
   "source": [
    "from sklearn.metrics import classification_report, accuracy_score"
   ]
  },
  {
   "cell_type": "code",
   "execution_count": 36,
   "metadata": {},
   "outputs": [
    {
     "name": "stdout",
     "output_type": "stream",
     "text": [
      "313/313 [==============================] - 2s 6ms/step\n"
     ]
    }
   ],
   "source": [
    "Y_predictions = model_1.predict(new_X_test)\n",
    "# 313/313 [==============================] - 2s 6ms/step"
   ]
  },
  {
   "cell_type": "code",
   "execution_count": 37,
   "metadata": {},
   "outputs": [
    {
     "name": "stdout",
     "output_type": "stream",
     "text": [
      "[Y_predictions] =\n",
      "[[9.5799117e-13 4.0743795e-13 4.5897511e-11 ... 9.7030919e-04\n",
      "  8.8029140e-10 9.9747497e-01]\n",
      " [2.2296948e-07 5.9875886e-17 9.9905998e-01 ... 6.7908799e-19\n",
      "  4.7597668e-13 2.6959868e-18]\n",
      " [6.1015793e-12 1.0000000e+00 2.5874877e-15 ... 0.0000000e+00\n",
      "  3.8004468e-20 1.9930233e-35]\n",
      " ...\n",
      " [3.5610344e-07 1.2150718e-24 1.3817521e-10 ... 2.1454325e-14\n",
      "  9.9999881e-01 7.2018787e-21]\n",
      " [2.1875394e-12 1.0000000e+00 2.5094154e-11 ... 7.4830841e-24\n",
      "  4.2253111e-16 3.6157559e-23]\n",
      " [1.7229135e-05 8.0870623e-06 6.1062345e-04 ... 3.5717630e-01\n",
      "  3.0693524e-03 4.8097968e-03]]\n"
     ]
    }
   ],
   "source": [
    "print(\"[Y_predictions] =\")\n",
    "print(Y_predictions)"
   ]
  },
  {
   "cell_type": "code",
   "execution_count": 38,
   "metadata": {},
   "outputs": [
    {
     "name": "stdout",
     "output_type": "stream",
     "text": [
      "[Y_predictions] =\n",
      "[[0. 0. 0. ... 0. 0. 1.]\n",
      " [0. 0. 1. ... 0. 0. 0.]\n",
      " [0. 1. 0. ... 0. 0. 0.]\n",
      " ...\n",
      " [0. 0. 0. ... 0. 1. 0.]\n",
      " [0. 1. 0. ... 0. 0. 0.]\n",
      " [0. 0. 0. ... 0. 0. 0.]]\n"
     ]
    }
   ],
   "source": [
    "Y_predictions = Y_predictions.round()\n",
    "print(\"[Y_predictions] =\")\n",
    "print(Y_predictions)"
   ]
  },
  {
   "cell_type": "code",
   "execution_count": 39,
   "metadata": {},
   "outputs": [
    {
     "name": "stdout",
     "output_type": "stream",
     "text": [
      "[new_a_Y_test] =\n",
      "tf.Tensor(\n",
      "[[0. 0. 0. ... 0. 0. 1.]\n",
      " [0. 0. 1. ... 0. 0. 0.]\n",
      " [0. 1. 0. ... 0. 0. 0.]\n",
      " ...\n",
      " [0. 0. 0. ... 0. 1. 0.]\n",
      " [0. 1. 0. ... 0. 0. 0.]\n",
      " [0. 0. 0. ... 0. 0. 0.]], shape=(10000, 10), dtype=float32)\n"
     ]
    }
   ],
   "source": [
    "print(\"[new_a_Y_test] =\")\n",
    "print(new_a_Y_test)"
   ]
  },
  {
   "cell_type": "code",
   "execution_count": 40,
   "metadata": {},
   "outputs": [
    {
     "name": "stdout",
     "output_type": "stream",
     "text": [
      "[new_b_Y_test] =\n",
      "[[0. 0. 0. ... 0. 0. 1.]\n",
      " [0. 0. 1. ... 0. 0. 0.]\n",
      " [0. 1. 0. ... 0. 0. 0.]\n",
      " ...\n",
      " [0. 0. 0. ... 0. 1. 0.]\n",
      " [0. 1. 0. ... 0. 0. 0.]\n",
      " [0. 0. 0. ... 0. 0. 0.]]\n"
     ]
    }
   ],
   "source": [
    "print(\"[new_b_Y_test] =\")\n",
    "print(new_b_Y_test)"
   ]
  },
  {
   "cell_type": "code",
   "execution_count": 41,
   "metadata": {},
   "outputs": [
    {
     "name": "stdout",
     "output_type": "stream",
     "text": [
      "a) Accuracy: 0.8782\n",
      "\n",
      "Classification Report:\n",
      "\n",
      "              precision    recall  f1-score   support\n",
      "\n",
      " T-shirt/top       0.85      0.81      0.83      1000\n",
      "     Trouser       0.99      0.97      0.98      1000\n",
      "    Pullover       0.78      0.84      0.80      1000\n",
      "       Dress       0.90      0.89      0.89      1000\n",
      "        Coat       0.84      0.77      0.80      1000\n",
      "      Sandal       0.98      0.95      0.97      1000\n",
      "       Shirt       0.72      0.67      0.69      1000\n",
      "     Sneaker       0.93      0.97      0.95      1000\n",
      "         Bag       0.98      0.96      0.97      1000\n",
      "  Ankle boot       0.96      0.96      0.96      1000\n",
      "\n",
      "   micro avg       0.89      0.88      0.89     10000\n",
      "   macro avg       0.89      0.88      0.89     10000\n",
      "weighted avg       0.89      0.88      0.89     10000\n",
      " samples avg       0.88      0.88      0.88     10000\n",
      "\n"
     ]
    },
    {
     "name": "stderr",
     "output_type": "stream",
     "text": [
      "d:\\python38\\lib\\site-packages\\sklearn\\metrics\\_classification.py:1248: UndefinedMetricWarning: Precision and F-score are ill-defined and being set to 0.0 in samples with no predicted labels. Use `zero_division` parameter to control this behavior.\n",
      "  _warn_prf(average, modifier, msg_start, len(result))\n"
     ]
    }
   ],
   "source": [
    "a_AS = accuracy_score(y_true = new_a_Y_test, y_pred = Y_predictions)\n",
    "print(\"a) Accuracy:\", a_AS)\n",
    "\n",
    "print(\"\\nClassification Report:\\n\")\n",
    "print(classification_report(y_true = new_a_Y_test, y_pred = Y_predictions, labels = Classes_L, target_names = Labels_L, zero_division = 'warn'))"
   ]
  },
  {
   "cell_type": "code",
   "execution_count": 42,
   "metadata": {},
   "outputs": [],
   "source": [
    "# avg / total       0.91      0.91      0.91     10000"
   ]
  },
  {
   "cell_type": "raw",
   "metadata": {},
   "source": [
    "# Warning:\n",
    "\n",
    "d:\\python38\\lib\\site-packages\\sklearn\\metrics\\_classification.py:1248: \n",
    "UndefinedMetricWarning: Precision and F-score are ill-defined and being set to 0.0 in samples with no predicted labels. \n",
    "Use `zero_division` parameter to control this behavior.\n",
    "  _warn_prf(average, modifier, msg_start, len(result))"
   ]
  },
  {
   "cell_type": "code",
   "execution_count": 43,
   "metadata": {},
   "outputs": [
    {
     "name": "stdout",
     "output_type": "stream",
     "text": [
      "b) Accuracy: 0.8782\n",
      "\n",
      "Classification Report:\n",
      "\n"
     ]
    },
    {
     "name": "stderr",
     "output_type": "stream",
     "text": [
      "d:\\python38\\lib\\site-packages\\sklearn\\metrics\\_classification.py:1248: UndefinedMetricWarning: Precision and F-score are ill-defined and being set to 0.0 in samples with no predicted labels. Use `zero_division` parameter to control this behavior.\n",
      "  _warn_prf(average, modifier, msg_start, len(result))\n"
     ]
    },
    {
     "data": {
      "text/plain": [
       "{'0': {'precision': 0.8477580813347236,\n",
       "  'recall': 0.813,\n",
       "  'f1-score': 0.8300153139356814,\n",
       "  'support': 1000},\n",
       " '1': {'precision': 0.9907881269191402,\n",
       "  'recall': 0.968,\n",
       "  'f1-score': 0.9792615073343449,\n",
       "  'support': 1000},\n",
       " '2': {'precision': 0.775,\n",
       "  'recall': 0.837,\n",
       "  'f1-score': 0.8048076923076922,\n",
       "  'support': 1000},\n",
       " '3': {'precision': 0.9030612244897959,\n",
       "  'recall': 0.885,\n",
       "  'f1-score': 0.8939393939393939,\n",
       "  'support': 1000},\n",
       " '4': {'precision': 0.8430296377607025,\n",
       "  'recall': 0.768,\n",
       "  'f1-score': 0.8037676609105181,\n",
       "  'support': 1000},\n",
       " '5': {'precision': 0.9835051546391752,\n",
       "  'recall': 0.954,\n",
       "  'f1-score': 0.9685279187817258,\n",
       "  'support': 1000},\n",
       " '6': {'precision': 0.7170212765957447,\n",
       "  'recall': 0.674,\n",
       "  'f1-score': 0.6948453608247422,\n",
       "  'support': 1000},\n",
       " '7': {'precision': 0.933589990375361,\n",
       "  'recall': 0.97,\n",
       "  'f1-score': 0.9514467876410004,\n",
       "  'support': 1000},\n",
       " '8': {'precision': 0.9785276073619632,\n",
       "  'recall': 0.957,\n",
       "  'f1-score': 0.9676440849342771,\n",
       "  'support': 1000},\n",
       " '9': {'precision': 0.9646821392532795,\n",
       "  'recall': 0.956,\n",
       "  'f1-score': 0.9603214465092919,\n",
       "  'support': 1000},\n",
       " 'micro avg': {'precision': 0.8938422391857507,\n",
       "  'recall': 0.8782,\n",
       "  'f1-score': 0.885952080706179,\n",
       "  'support': 10000},\n",
       " 'macro avg': {'precision': 0.8936963238729886,\n",
       "  'recall': 0.8782,\n",
       "  'f1-score': 0.8854577167118668,\n",
       "  'support': 10000},\n",
       " 'weighted avg': {'precision': 0.8936963238729886,\n",
       "  'recall': 0.8782,\n",
       "  'f1-score': 0.8854577167118669,\n",
       "  'support': 10000},\n",
       " 'samples avg': {'precision': 0.8782,\n",
       "  'recall': 0.8782,\n",
       "  'f1-score': 0.8782,\n",
       "  'support': 10000}}"
      ]
     },
     "execution_count": 43,
     "metadata": {},
     "output_type": "execute_result"
    }
   ],
   "source": [
    "b_AS = accuracy_score(y_true = new_b_Y_test, y_pred = Y_predictions)\n",
    "print(\"b) Accuracy:\", b_AS)\n",
    "\n",
    "print(\"\\nClassification Report:\\n\")\n",
    "CR_D = classification_report(y_true = new_b_Y_test, y_pred = Y_predictions, output_dict = True)\n",
    "CR_D"
   ]
  },
  {
   "cell_type": "code",
   "execution_count": 44,
   "metadata": {},
   "outputs": [
    {
     "name": "stdout",
     "output_type": "stream",
     "text": [
      "[Classes_L] = [0, 1, 2, 3, 4, 5, 6, 7, 8, 9]\n",
      "\n",
      "[Support_L] = [1000, 1000, 1000, 1000, 1000, 1000, 1000, 1000, 1000, 1000]\n",
      "=> sum([Support_L]) = 10000\n",
      " Support_n = 10000 == 10000\n",
      "\n",
      "[Precision_L] = [0.8477580813347236, 0.9907881269191402, 0.775, 0.9030612244897959, 0.8430296377607025, 0.9835051546391752, 0.7170212765957447, 0.933589990375361, 0.9785276073619632, 0.9646821392532795]\n",
      "\n",
      "[Recall_L]    = [0.813, 0.968, 0.837, 0.885, 0.768, 0.954, 0.674, 0.97, 0.957, 0.956]\n",
      "\n",
      "[F1Score_L]   = [0.8300153139356814, 0.9792615073343449, 0.8048076923076922, 0.8939393939393939, 0.8037676609105181, 0.9685279187817258, 0.6948453608247422, 0.9514467876410004, 0.9676440849342771, 0.9603214465092919]\n"
     ]
    }
   ],
   "source": [
    "Support_sum = 0\n",
    "Support_L   = [0] * Labels_n\n",
    "Precision_L = [0] * Labels_n\n",
    "Recall_L    = [0] * Labels_n\n",
    "F1Score_L   = [0] * Labels_n \n",
    "\n",
    "print(\"[Classes_L] =\", str(Classes_L))\n",
    "for i in range(Labels_n):\n",
    "    n = str(i)\n",
    "\n",
    "    Support_L[i] = CR_D[n]['support']\n",
    "    Support_sum += Support_L[i]\n",
    "    \n",
    "    Precision_L[i] = CR_D[n]['precision']\n",
    "    Recall_L[i] = CR_D[n]['recall']\n",
    "    F1Score_L[i] = CR_D[n]['f1-score']\n",
    "    \n",
    "print(\"\\n[Support_L] =\", Support_L)\n",
    "Support_n = CR_D['samples avg']['support'] #\n",
    "print(\"=> sum([Support_L]) =\", Support_n)\n",
    "print(\" Support_n =\", Support_n, \"==\", Support_n)\n",
    "\n",
    "print(\"\\n[Precision_L] =\", Precision_L)\n",
    "print(\"\\n[Recall_L]    =\", Recall_L)\n",
    "print(\"\\n[F1Score_L]   =\", F1Score_L)"
   ]
  },
  {
   "cell_type": "code",
   "execution_count": 45,
   "metadata": {},
   "outputs": [
    {
     "name": "stdout",
     "output_type": "stream",
     "text": [
      "[avg_total_Precision] =\t 0.8936963238729887\n",
      "[avg_total_Recall]    =\t 0.8782000000000001\n",
      "[avg_total_F1Score]   =\t 0.8854577167118669\n"
     ]
    }
   ],
   "source": [
    "avg_total_Precision = 0\n",
    "avg_total_Recall    = 0\n",
    "avg_total_F1Score   = 0\n",
    "\n",
    "for i in range(Labels_n):\n",
    "    avg_total_Precision += Precision_L[i] * (Support_L[i] / Support_n)\n",
    "    avg_total_Recall    += Recall_L[i]    * (Support_L[i] / Support_n)\n",
    "    avg_total_F1Score   += F1Score_L[i]   * (Support_L[i] / Support_n)\n",
    "    \n",
    "print(\"[avg_total_Precision] =\\t\", avg_total_Precision)\n",
    "print(\"[avg_total_Recall]    =\\t\", avg_total_Recall)\n",
    "print(\"[avg_total_F1Score]   =\\t\", avg_total_F1Score)"
   ]
  },
  {
   "cell_type": "code",
   "execution_count": 46,
   "metadata": {},
   "outputs": [
    {
     "name": "stdout",
     "output_type": "stream",
     "text": [
      "[Classes_L] =\n",
      " [0, 1, 2, 3, 4, 5, 6, 7, 8, 9]\n",
      "[Labels_L]  =\n",
      " ['T-shirt/top', 'Trouser', 'Pullover', 'Dress', 'Coat', 'Sandal', 'Shirt', 'Sneaker', 'Bag', 'Ankle boot']\n",
      "\n",
      "Accuracy: 0.89\n",
      "\n",
      "Classification Report:\n",
      "\n",
      "              precision    recall  f1-score   support\n",
      "\n",
      "           0       0.85      0.81      0.83      1000\n",
      "           1       0.99      0.97      0.98      1000\n",
      "           2       0.78      0.84      0.80      1000\n",
      "           3       0.90      0.89      0.89      1000\n",
      "           4       0.84      0.77      0.80      1000\n",
      "           5       0.98      0.95      0.97      1000\n",
      "           6       0.72      0.67      0.69      1000\n",
      "           7       0.93      0.97      0.95      1000\n",
      "           8       0.98      0.96      0.97      1000\n",
      "           9       0.96      0.96      0.96      1000\n",
      "\n",
      "   micro avg       0.89      0.88      0.89     10000\n",
      "   macro avg       0.89      0.88      0.89     10000\n",
      "weighted avg       0.89      0.88      0.89     10000\n",
      " samples avg       0.88      0.88      0.88     10000\n",
      "\n",
      "    accuracy                           0.88     10000\n",
      "\n",
      " avg / total       0.89      0.88      0.89     10000\n"
     ]
    },
    {
     "name": "stderr",
     "output_type": "stream",
     "text": [
      "d:\\python38\\lib\\site-packages\\sklearn\\metrics\\_classification.py:1248: UndefinedMetricWarning: Precision and F-score are ill-defined and being set to 0.0 in samples with no predicted labels. Use `zero_division` parameter to control this behavior.\n",
      "  _warn_prf(average, modifier, msg_start, len(result))\n"
     ]
    }
   ],
   "source": [
    "def round_2(numb):\n",
    "    numb = round(numb, 2)\n",
    "    return numb\n",
    "\n",
    "avg_total_Precision = round_2(avg_total_Precision)\n",
    "avg_total_Recall    = round_2(avg_total_Recall)\n",
    "avg_total_F1Score   = round_2(avg_total_F1Score)\n",
    "\n",
    "print(\"[Classes_L] =\\n\", Classes_L)\n",
    "print(\"[Labels_L]  =\\n\", Labels_L)\n",
    "\n",
    "b_A = round_2(b_Acc)\n",
    "print(\"\\nAccuracy:\", b_A) # a_AS\n",
    "\n",
    "print(\"\\nClassification Report:\\n\")\n",
    "print(classification_report(y_true = new_b_Y_test, y_pred = Y_predictions, output_dict = False))\n",
    "\n",
    "print('{:>12} {:>10} {:>9} {:>9.2f} {:>9}'.format(\"accuracy\", '', '', a_AS, Support_n))\n",
    "#\n",
    "print()\n",
    "print('{:>12} {:>10.2f} {:>9} {:>9.2f} {:>9}'.format(\"avg / total\", avg_total_Precision, avg_total_Recall, avg_total_F1Score, Support_n))\n",
    "#\n",
    "# avg / total       0.91      0.91      0.91     10000"
   ]
  },
  {
   "cell_type": "raw",
   "metadata": {},
   "source": [
    "# The reported averages include:\n",
    "# - Macro Average (averaging the unweighted mean per label),\n",
    "# - Weighted Average (averaging the support-weighted mean per label),\n",
    "# - and Samples Average (only for multilabel classification). \n",
    "# - Micro Average (averaging the total true positives, false negatives and false positives) \n",
    "#   is only shown for multi-label or multi-class with a subset of classes, because it corresponds to Accuracy otherwise."
   ]
  },
  {
   "cell_type": "code",
   "execution_count": 47,
   "metadata": {},
   "outputs": [
    {
     "name": "stdout",
     "output_type": "stream",
     "text": [
      "0.8782 \t\t\t= 0.8782\n",
      "? ~\n",
      "0.8855999708175659 \t= 0.8855999708175659 ~ 0.89\n"
     ]
    }
   ],
   "source": [
    "# Accuracy (Test):\n",
    "# - a_AS  = based on new_a_Y_test (SKL.accuracy_score())\n",
    "# - b_AS  = based on new_b_Y_test (SKL.accuracy_score())\n",
    "# - a_Acc = based on new_a_Y_test (model.evaluate())  from Dictionary\n",
    "# - b_Acc = based on new_b_Y_test (model.evaluate())  from List\n",
    "# - b_A = rounded b_A\n",
    "print(a_AS, '\\t\\t\\t=', b_AS)\n",
    "print(\"? ~\")\n",
    "print(a_Acc, '\\t=', b_Acc, '~', b_A)"
   ]
  },
  {
   "cell_type": "markdown",
   "metadata": {},
   "source": [
    "## Дополнительно:\n",
    " \n",
    "* Отрисуйте фильтры на слое `Conv2D`, сравните до и после обучения модели."
   ]
  },
  {
   "cell_type": "code",
   "execution_count": 48,
   "metadata": {},
   "outputs": [],
   "source": [
    "#"
   ]
  },
  {
   "cell_type": "code",
   "execution_count": 49,
   "metadata": {},
   "outputs": [
    {
     "name": "stdout",
     "output_type": "stream",
     "text": [
      "Фильтры _ обучения ИНС:\n",
      "\n",
      "1) после:\n",
      "\n",
      "\n",
      "2D Convolutional Layer Name: conv2d_4\n",
      "Filter Shape: (4, 4, 28, 32)\n",
      "\n",
      "filters_L:\n",
      "[[[[-0.02278701  0.03301477 -0.05003152 ...  0.06560069 -0.02148585\n",
      "     0.02234253]\n",
      "   [ 0.05170422 -0.06889647 -0.07714505 ...  0.03325406 -0.05746736\n",
      "     0.01752259]\n",
      "   [-0.03716104 -0.06831706  0.04785841 ...  0.00173015 -0.07415614\n",
      "     0.06976876]\n",
      "   ...\n",
      "   [-0.04139077  0.06830577 -0.00724167 ... -0.0254798   0.03427916\n",
      "     0.02889916]\n",
      "   [ 0.03743655  0.03687786 -0.04362151 ...  0.07545414  0.06666053\n",
      "    -0.07590456]\n",
      "   [ 0.0730386  -0.07857735 -0.07115386 ... -0.04506317  0.07670354\n",
      "     0.03147148]]\n",
      "\n",
      "  [[-0.05749973 -0.06361052  0.0208868  ...  0.06114749  0.00325022\n",
      "    -0.03387073]\n",
      "   [ 0.00539359  0.06131079  0.04507305 ... -0.07302226  0.06882233\n",
      "    -0.03455258]\n",
      "   [ 0.05106772  0.06946368 -0.00996438 ... -0.04015421  0.07309396\n",
      "     0.04838789]\n",
      "   ...\n",
      "   [-0.05735107 -0.02776888 -0.04731369 ... -0.0735544  -0.02337151\n",
      "    -0.04764389]\n",
      "   [-0.064999   -0.05367969  0.03426348 ... -0.05890043  0.0543896\n",
      "     0.05180245]\n",
      "   [-0.06603505 -0.04076187 -0.02621251 ...  0.04721204  0.02302002\n",
      "     0.07593354]]\n",
      "\n",
      "  [[ 0.03009623 -0.05697528 -0.03360144 ...  0.06186057  0.03340149\n",
      "    -0.03847414]\n",
      "   [-0.01800643 -0.06693763 -0.03456466 ... -0.02789635 -0.02108609\n",
      "    -0.003465  ]\n",
      "   [ 0.0364611   0.04478888  0.00273098 ... -0.05743617 -0.03929416\n",
      "    -0.03036895]\n",
      "   ...\n",
      "   [-0.00274218 -0.02299584 -0.02478994 ... -0.00092257 -0.03694962\n",
      "     0.01752196]\n",
      "   [ 0.07114507  0.00781503  0.05059307 ... -0.04910447  0.06113898\n",
      "     0.02000228]\n",
      "   [ 0.00341187  0.05405467 -0.04625487 ... -0.02446126  0.01745573\n",
      "    -0.06644863]]\n",
      "\n",
      "  [[-0.02045836  0.04461425  0.01587415 ... -0.04104283 -0.04246726\n",
      "     0.04030298]\n",
      "   [ 0.02267145 -0.07468309 -0.00169344 ...  0.05336062  0.07017649\n",
      "    -0.01982276]\n",
      "   [-0.0212654  -0.07281365  0.02730582 ... -0.00241706  0.05691171\n",
      "    -0.05957204]\n",
      "   ...\n",
      "   [ 0.06952371 -0.01821946  0.04925429 ...  0.06152082 -0.0194681\n",
      "    -0.01585423]\n",
      "   [-0.00324851 -0.02390939 -0.04795203 ...  0.0460596   0.03489126\n",
      "     0.02061488]\n",
      "   [-0.07498669 -0.01571608 -0.06306866 ...  0.00721079 -0.03493899\n",
      "     0.04643989]]]\n",
      "\n",
      "\n",
      " [[[ 0.04546748  0.25221542 -0.05060738 ... -0.19347398  0.18182437\n",
      "    -0.21397424]\n",
      "   [-0.04794363  0.31064036 -0.2558361  ... -0.00410744  0.09128434\n",
      "    -0.0244282 ]\n",
      "   [-0.12092903  0.21254784 -0.05481286 ... -0.3296545   0.01348927\n",
      "    -0.12966906]\n",
      "   ...\n",
      "   [ 0.00159169 -0.06519829  0.07849798 ...  0.03761953 -0.10861109\n",
      "     0.10269669]\n",
      "   [-0.07565115 -0.06823874  0.05215639 ... -0.11136696 -0.07225063\n",
      "     0.08185518]\n",
      "   [ 0.03767201 -0.27995414  0.11770438 ...  0.07208975 -0.26648384\n",
      "    -0.1912384 ]]\n",
      "\n",
      "  [[ 0.14943132  0.14961614 -0.10693194 ... -0.03000952  0.21753542\n",
      "    -0.18152986]\n",
      "   [ 0.00271035  0.07714547 -0.186799   ...  0.08523904 -0.02534207\n",
      "    -0.0143278 ]\n",
      "   [-0.15634517  0.03894212 -0.18074568 ... -0.01508899 -0.03749705\n",
      "     0.00618562]\n",
      "   ...\n",
      "   [-0.08274311 -0.12236425  0.05460457 ...  0.1018672  -0.26698986\n",
      "    -0.12679929]\n",
      "   [-0.05409276 -0.17801939 -0.01015551 ...  0.05594724 -0.39962813\n",
      "     0.0676445 ]\n",
      "   [-0.05893823  0.11537906  0.00370307 ... -0.02093222 -0.09221249\n",
      "    -0.25437894]]\n",
      "\n",
      "  [[-0.0222464   0.00811043 -0.03803839 ...  0.2327903   0.21072511\n",
      "    -0.03874088]\n",
      "   [-0.05762412  0.03850034 -0.16908015 ...  0.10731404 -0.07076472\n",
      "     0.12992935]\n",
      "   [-0.13967012 -0.10479937 -0.31051356 ...  0.00827839  0.07539424\n",
      "     0.02629216]\n",
      "   ...\n",
      "   [ 0.08072872  0.07703991  0.04527845 ... -0.13362092 -0.07975788\n",
      "    -0.09010205]\n",
      "   [ 0.10342427  0.05287011  0.00842441 ... -0.14464289  0.08036052\n",
      "     0.03114274]\n",
      "   [-0.11547984  0.30274293 -0.10488793 ... -0.21987152  0.3825108\n",
      "    -0.24010001]]\n",
      "\n",
      "  [[-0.14878868  0.25661597 -0.18911773 ...  0.02984482  0.0549746\n",
      "    -0.08389842]\n",
      "   [-0.10808099  0.20186438 -0.15928462 ... -0.01900955  0.16303465\n",
      "     0.07479547]\n",
      "   [-0.01115393  0.04420349 -0.16043514 ...  0.00480546  0.19343881\n",
      "    -0.06097986]\n",
      "   ...\n",
      "   [-0.100756    0.12990314  0.22771902 ... -0.12540194  0.09722182\n",
      "    -0.11164616]\n",
      "   [-0.11621979  0.10069038  0.12457252 ...  0.02083848  0.24397223\n",
      "     0.08847841]\n",
      "   [ 0.10147759  0.30595282  0.01241622 ...  0.22353645  0.44903392\n",
      "    -0.1257575 ]]]\n",
      "\n",
      "\n",
      " [[[ 0.02754914 -0.04184144 -0.04486311 ... -0.01698438 -0.01425949\n",
      "     0.0557109 ]\n",
      "   [ 0.01328918  0.07117487  0.04727095 ... -0.07040159 -0.04073671\n",
      "    -0.02266071]\n",
      "   [ 0.06545981 -0.0404988  -0.0732398  ... -0.02766278  0.0492226\n",
      "     0.05139846]\n",
      "   ...\n",
      "   [ 0.07173695 -0.06633445  0.01993578 ... -0.01867205  0.00288646\n",
      "    -0.03235724]\n",
      "   [-0.02990368 -0.07411839  0.01996794 ... -0.02247714 -0.00293108\n",
      "     0.03664155]\n",
      "   [-0.03457194 -0.03649022 -0.06857457 ... -0.0513941  -0.06934913\n",
      "     0.04314296]]\n",
      "\n",
      "  [[ 0.02657942 -0.03088518  0.05618391 ... -0.0307332   0.05588932\n",
      "     0.03655265]\n",
      "   [ 0.03412945 -0.01853898 -0.02907403 ... -0.07308906 -0.01758132\n",
      "     0.03490239]\n",
      "   [-0.01718131 -0.02410161 -0.048876   ...  0.05050445 -0.02878497\n",
      "    -0.03095601]\n",
      "   ...\n",
      "   [-0.06381778 -0.01454672  0.05548305 ...  0.0563117   0.05928803\n",
      "     0.05037383]\n",
      "   [-0.02138872 -0.05646153 -0.06773543 ...  0.03714564  0.05619042\n",
      "     0.03691978]\n",
      "   [-0.03269258 -0.01054289  0.01869185 ... -0.04462871 -0.05042727\n",
      "     0.00554539]]\n",
      "\n",
      "  [[-0.02388854 -0.06658015  0.04251679 ... -0.01197324 -0.01659672\n",
      "     0.06528177]\n",
      "   [-0.03355232  0.02097824  0.04342254 ...  0.05938037 -0.07189896\n",
      "    -0.01253716]\n",
      "   [ 0.03222475 -0.00552062 -0.02631736 ... -0.02119605 -0.0122001\n",
      "     0.0115627 ]\n",
      "   ...\n",
      "   [-0.0728672  -0.06862618 -0.01384638 ... -0.0595489  -0.04309335\n",
      "    -0.02046448]\n",
      "   [ 0.0781432   0.00478882  0.01208369 ... -0.02232249  0.06039498\n",
      "    -0.07278962]\n",
      "   [-0.00968526 -0.07766523 -0.01876929 ...  0.04964768 -0.04041807\n",
      "    -0.03933663]]\n",
      "\n",
      "  [[ 0.06868271 -0.01081481  0.02274213 ... -0.0655143   0.00086276\n",
      "    -0.04614908]\n",
      "   [ 0.02698491 -0.07726149  0.00602408 ...  0.00419381 -0.01066426\n",
      "    -0.03083503]\n",
      "   [ 0.05143752 -0.07534757  0.04180738 ...  0.07639989  0.01698317\n",
      "    -0.01266135]\n",
      "   ...\n",
      "   [-0.01336262 -0.00696231  0.01279802 ... -0.02209336 -0.03309843\n",
      "     0.03169613]\n",
      "   [ 0.07042337 -0.05781348  0.04006629 ... -0.06041987 -0.01712951\n",
      "    -0.03104343]\n",
      "   [-0.02079345 -0.04404934  0.02295654 ...  0.00832859 -0.06844687\n",
      "     0.03000268]]]\n",
      "\n",
      "\n",
      " [[[-0.0567275   0.04505175  0.03254577 ... -0.00441388 -0.01311553\n",
      "    -0.03722415]\n",
      "   [-0.00352134  0.02136143 -0.0519649  ... -0.00531758 -0.06588785\n",
      "    -0.04656216]\n",
      "   [ 0.03885686 -0.01629867  0.02077028 ... -0.0720403   0.03916118\n",
      "     0.06276605]\n",
      "   ...\n",
      "   [ 0.04136194  0.04812833 -0.02167013 ... -0.04282419  0.07005516\n",
      "     0.00990734]\n",
      "   [-0.0715453  -0.03076578  0.05561639 ...  0.0726708  -0.02225712\n",
      "    -0.03180921]\n",
      "   [-0.03486296  0.01804268  0.07635313 ... -0.03138721 -0.00393993\n",
      "     0.03104166]]\n",
      "\n",
      "  [[ 0.05374844  0.03692345  0.01613231 ...  0.00165274  0.05894139\n",
      "    -0.05571889]\n",
      "   [-0.05640892  0.0601668  -0.00295645 ... -0.05872685  0.00826161\n",
      "    -0.07685687]\n",
      "   [ 0.00212939  0.05551837  0.01718374 ...  0.00327571  0.01197537\n",
      "    -0.03915676]\n",
      "   ...\n",
      "   [-0.05211531  0.01732605 -0.01076929 ...  0.07824499 -0.02521653\n",
      "    -0.01284825]\n",
      "   [-0.00153888  0.01070073  0.00158502 ...  0.01534406 -0.07091035\n",
      "    -0.03602756]\n",
      "   [ 0.06469762  0.04344825  0.01379707 ...  0.02696347  0.03590535\n",
      "    -0.06328202]]\n",
      "\n",
      "  [[-0.05914716  0.02451295 -0.0459916  ...  0.02944605 -0.00801013\n",
      "     0.01469546]\n",
      "   [ 0.00971811 -0.03278765  0.04713442 ... -0.07233834 -0.0038524\n",
      "     0.04243024]\n",
      "   [ 0.04539577  0.03025969  0.06282616 ...  0.06916711  0.04428809\n",
      "    -0.02411262]\n",
      "   ...\n",
      "   [-0.01480731 -0.05703381  0.02270573 ... -0.06438595  0.05764209\n",
      "     0.06153318]\n",
      "   [ 0.0199249   0.03122272 -0.02441574 ... -0.06108966  0.04828589\n",
      "    -0.06270299]\n",
      "   [-0.00642057 -0.01667074  0.02179508 ... -0.07292729 -0.0636465\n",
      "     0.00593587]]\n",
      "\n",
      "  [[ 0.072966    0.02006583 -0.0735838  ... -0.07046296  0.01500175\n",
      "    -0.02140831]\n",
      "   [-0.00116549 -0.05611514  0.03438321 ... -0.05236868  0.04685306\n",
      "    -0.03352736]\n",
      "   [ 0.04808266 -0.03424126  0.02344675 ...  0.03198677  0.06266927\n",
      "     0.0487112 ]\n",
      "   ...\n",
      "   [-0.03089415  0.01614352 -0.04643396 ... -0.05569614 -0.03340438\n",
      "     0.0053938 ]\n",
      "   [ 0.05070602 -0.07761021  0.04961676 ... -0.00553934  0.03667936\n",
      "    -0.03371029]\n",
      "   [-0.06015017  0.01572346 -0.01326733 ...  0.0092869   0.02184676\n",
      "    -0.06994984]]]]\n",
      "\n",
      "bias_L:\n",
      "[-0.08479726  0.00416731  0.00930296 -0.16995765 -0.05818958 -0.12636964\n",
      " -0.06955446 -0.17100325 -0.01785679 -0.11014762 -0.07775693  0.08881415\n",
      " -0.1085947   0.00260256 -0.02975042  0.00179406 -0.10459965 -0.10921332\n",
      " -0.11582681 -0.10037536  0.1723565  -0.03420623 -0.00193131 -0.10399836\n",
      " -0.04534475 -0.05715741 -0.08832975 -0.02189772  0.03736863  0.0553299\n",
      " -0.04282295 -0.10799823]\n",
      "\n",
      "Normalized filters_L:\n",
      "[[[[0.5006886  0.5539657  0.47467685 ... 0.5850773  0.50193095\n",
      "    0.5437763 ]\n",
      "   [0.57180953 0.45666543 0.44879007 ... 0.55419415 0.46757743\n",
      "    0.53917444]\n",
      "   [0.48696497 0.45721862 0.56813776 ... 0.52409655 0.45164374\n",
      "    0.5890568 ]\n",
      "   ...\n",
      "   [0.48292664 0.58765996 0.51553065 ... 0.49811772 0.55517286\n",
      "    0.55003625]\n",
      "   [0.5581874  0.557654   0.48079678 ... 0.59448487 0.58608913\n",
      "    0.44997442]\n",
      "   [0.59217864 0.44742256 0.45451018 ... 0.47942042 0.5956778\n",
      "    0.55249226]]\n",
      "\n",
      "  [[0.46754652 0.4617122  0.5423864  ... 0.58082557 0.52554786\n",
      "    0.4901064 ]\n",
      "   [0.52759427 0.58098143 0.5654784  ... 0.4527263  0.5881531\n",
      "    0.48945543]\n",
      "   [0.57120186 0.58876544 0.51293117 ... 0.48410723 0.5922315\n",
      "    0.5686433 ]\n",
      "   ...\n",
      "   [0.46768847 0.49593222 0.4772717  ... 0.45221823 0.5001306\n",
      "    0.47695643]\n",
      "   [0.46038657 0.4711937  0.5551579  ... 0.4662092  0.5743734\n",
      "    0.57190335]\n",
      "   [0.45939738 0.48352706 0.49741814 ... 0.5675206  0.54442316\n",
      "    0.59494257]]\n",
      "\n",
      "  [[0.55117923 0.46804723 0.4903635  ... 0.5815064  0.55433494\n",
      "    0.4857113 ]\n",
      "   [0.50525296 0.45853564 0.48944387 ... 0.4958105  0.5023126\n",
      "    0.5191364 ]\n",
      "   [0.5572561  0.5652071  0.5250521  ... 0.4676072  0.48492837\n",
      "    0.4934498 ]\n",
      "   ...\n",
      "   [0.5198266  0.5004893  0.49877638 ... 0.5215639  0.48716682\n",
      "    0.5391739 ]\n",
      "   [0.5903708  0.5299061  0.5707487  ... 0.47556195 0.58081746\n",
      "    0.54154193]\n",
      "   [0.5257022  0.57405365 0.4782826  ... 0.49909016 0.5391106\n",
      "    0.45900252]]\n",
      "\n",
      "  [[0.502912   0.56504035 0.5376006  ... 0.48325884 0.48189887\n",
      "    0.5609242 ]\n",
      "   [0.5440904  0.4511406  0.5208279  ... 0.573391   0.589446\n",
      "    0.50351876]\n",
      "   [0.5021414  0.4529255  0.5485151  ... 0.52013695 0.5767814\n",
      "    0.46556798]\n",
      "   ...\n",
      "   [0.5888228  0.5050495  0.56947047 ... 0.581182   0.5038574\n",
      "    0.50730777]\n",
      "   [0.51934314 0.49961707 0.47666225 ... 0.5664203  0.5557573\n",
      "    0.54212683]\n",
      "   [0.45085075 0.5074397  0.46222955 ... 0.52932924 0.4890865\n",
      "    0.56678337]]]\n",
      "\n",
      "\n",
      " [[[0.565855   0.7632486  0.47412702 ... 0.3377244  0.6960424\n",
      "    0.31815168]\n",
      "   [0.47667027 0.8190301  0.27818388 ... 0.5185231  0.6095989\n",
      "    0.49912176]\n",
      "   [0.40698707 0.72537583 0.47011185 ... 0.20770535 0.5353236\n",
      "    0.39864248]\n",
      "   ...\n",
      "   [0.52396435 0.46019626 0.59739107 ... 0.5583621  0.41874766\n",
      "    0.6204949 ]\n",
      "   [0.45021638 0.4572934  0.57224125 ... 0.4161165  0.45346302\n",
      "    0.6005963 ]\n",
      "   [0.5584122  0.25515705 0.63482356 ... 0.5912727  0.2680179\n",
      "    0.33985883]]\n",
      "\n",
      "  [[0.665115   0.6652914  0.42035088 ... 0.49379295 0.73013777\n",
      "    0.3491281 ]\n",
      "   [0.5250324  0.5960997  0.3440974  ... 0.6038271  0.49824923\n",
      "    0.5087651 ]\n",
      "   [0.37317333 0.55962485 0.34987685 ... 0.5080384  0.48664418\n",
      "    0.5283504 ]\n",
      "   ...\n",
      "   [0.44344527 0.4056168  0.5745787  ... 0.6197029  0.26753476\n",
      "    0.40138242]\n",
      "   [0.47079933 0.35247976 0.51274866 ... 0.5758606  0.14089769\n",
      "    0.58702856]\n",
      "   [0.4661731  0.6326034  0.5259802  ... 0.5024596  0.4344043\n",
      "    0.27957508]]\n",
      "\n",
      "  [[0.5012048  0.53018814 0.48612735 ... 0.7447024  0.72363555\n",
      "    0.48545665]\n",
      "   [0.46742776 0.559203   0.36101454 ... 0.6249033  0.4548817\n",
      "    0.6464954 ]\n",
      "   [0.3890939  0.4223869  0.22598028 ... 0.5303485  0.59442776\n",
      "    0.5475472 ]\n",
      "   ...\n",
      "   [0.5995208  0.5959989  0.5656745  ... 0.39486942 0.44629544\n",
      "    0.43641928]\n",
      "   [0.62118953 0.57292265 0.5304879  ... 0.38434616 0.5991693\n",
      "    0.5521784 ]\n",
      "   [0.41218972 0.81149006 0.4223024  ... 0.31252122 0.8876488\n",
      "    0.29320797]]\n",
      "\n",
      "  [[0.38038793 0.7674501  0.34188357 ... 0.5509392  0.574932\n",
      "    0.44234222]\n",
      "   [0.4192538  0.7151757  0.37036687 ... 0.50429523 0.67810285\n",
      "    0.59385604]\n",
      "   [0.5117954  0.5646482  0.36926842 ... 0.5270327  0.7071314\n",
      "    0.46422386]\n",
      "   ...\n",
      "   [0.4262474  0.64647037 0.73986053 ... 0.40271655 0.61526775\n",
      "    0.41584992]\n",
      "   [0.41148326 0.6185793  0.6413809  ... 0.54234034 0.7553784\n",
      "    0.6069199 ]\n",
      "   [0.61933094 0.81455463 0.53429914 ... 0.7358672  0.9511621\n",
      "    0.40237704]]]\n",
      "\n",
      "\n",
      " [[[0.54874736 0.48249635 0.4796114  ... 0.50622874 0.50883037\n",
      "    0.57563496]\n",
      "   [0.5351326  0.59039927 0.5675769  ... 0.45522842 0.48355114\n",
      "    0.50080925]\n",
      "   [0.58494276 0.48377824 0.4525186  ... 0.49603352 0.5694402\n",
      "    0.5715176 ]\n",
      "   ...\n",
      "   [0.5909359  0.4591115  0.54147846 ... 0.50461745 0.52520055\n",
      "    0.49155146]\n",
      "   [0.493894   0.4516798  0.54150915 ... 0.5009845  0.5196462\n",
      "    0.55742836]\n",
      "   [0.48943692 0.48760548 0.45697275 ... 0.4733759  0.45623323\n",
      "    0.56363565]]\n",
      "\n",
      "  [[0.5478215  0.4929569  0.5760866  ... 0.49310198 0.5758053\n",
      "    0.55734354]\n",
      "   [0.5550299  0.5047445  0.49468613 ... 0.45266253 0.5056588\n",
      "    0.5557679 ]\n",
      "   [0.5060407  0.49943355 0.47578007 ... 0.57066405 0.49496207\n",
      "    0.49288926]\n",
      "   ...\n",
      "   [0.46151435 0.50855607 0.5754174  ... 0.5762086  0.57905024\n",
      "    0.57053936]\n",
      "   [0.5020237  0.46853775 0.45777392 ... 0.55790967 0.5760928\n",
      "    0.557694  ]\n",
      "   [0.4912313  0.5123788  0.54029083 ... 0.4798352  0.47429898\n",
      "    0.52773917]]\n",
      "\n",
      "  [[0.49963698 0.45887694 0.56303775 ... 0.51101315 0.5065989\n",
      "    0.58477277]\n",
      "   [0.49041045 0.54247373 0.56390256 ... 0.5791384  0.45379877\n",
      "    0.51047474]\n",
      "   [0.55321145 0.5171738  0.49731806 ... 0.50220764 0.51079655\n",
      "    0.5334842 ]\n",
      "   ...\n",
      "   [0.45287433 0.45692348 0.5092248  ... 0.4655901  0.4813011\n",
      "    0.5029061 ]\n",
      "   [0.5970523  0.5270168  0.5339817  ... 0.5011322  0.5801071\n",
      "    0.45294842]\n",
      "   [0.5131976  0.4482934  0.50452465 ... 0.56984603 0.4838553\n",
      "    0.48488784]]\n",
      "\n",
      "  [[0.58801985 0.51211923 0.54415786 ... 0.45989457 0.5232684\n",
      "    0.4783836 ]\n",
      "   [0.54820865 0.44867885 0.52819616 ... 0.5264487  0.5122629\n",
      "    0.49300477]\n",
      "   [0.5715549  0.4505062  0.5623605  ... 0.5953878  0.53865945\n",
      "    0.5103562 ]\n",
      "   ...\n",
      "   [0.50968665 0.5157974  0.5346636  ... 0.50135094 0.4908438\n",
      "    0.5527067 ]\n",
      "   [0.58968174 0.46724698 0.5606982  ... 0.46475852 0.50609016\n",
      "    0.49280584]\n",
      "   [0.502592   0.48038837 0.54436255 ... 0.53039646 0.45709467\n",
      "    0.55108994]]]\n",
      "\n",
      "\n",
      " [[[0.4682838  0.56545806 0.5535179  ... 0.5182305  0.50992256\n",
      "    0.4869047 ]\n",
      "   [0.51908267 0.5428396  0.47283092 ... 0.5173677  0.45953792\n",
      "    0.47798926]\n",
      "   [0.5595435  0.50688344 0.54227525 ... 0.45366383 0.55983406\n",
      "    0.58237094]\n",
      "   ...\n",
      "   [0.5619352  0.56839544 0.50175506 ... 0.48155805 0.5893302\n",
      "    0.5319038 ]\n",
      "   [0.45413643 0.4930709  0.5755447  ... 0.5918275  0.5011946\n",
      "    0.49207467]\n",
      "   [0.4891591  0.539671   0.59534323 ... 0.49247757 0.518683\n",
      "    0.5520819 ]]\n",
      "\n",
      "  [[0.5737613  0.55769753 0.53784704 ... 0.52402264 0.57871926\n",
      "    0.46924677]\n",
      "   [0.468588   0.57988924 0.51962197 ... 0.46637493 0.5303325\n",
      "    0.44906518]\n",
      "   [0.5244777  0.57545114 0.5388509  ... 0.5255722  0.5338782\n",
      "    0.4850596 ]\n",
      "   ...\n",
      "   [0.4726873  0.5389868  0.5121626  ... 0.5971495  0.49836907\n",
      "    0.51017773]\n",
      "   [0.5209754  0.5326612  0.52395797 ... 0.53709453 0.45474267\n",
      "    0.48804718]\n",
      "   [0.58421504 0.5639271  0.5356175  ... 0.5481882  0.5567255\n",
      "    0.46202585]]\n",
      "\n",
      "  [[0.46597365 0.54584855 0.47853395 ... 0.55055845 0.514797\n",
      "    0.53647524]\n",
      "   [0.5317231  0.49114054 0.5674465  ... 0.45337927 0.5187666\n",
      "    0.56295514]\n",
      "   [0.56578654 0.5513353  0.5824283  ... 0.5884824  0.564729\n",
      "    0.499423  ]\n",
      "   ...\n",
      "   [0.50830734 0.46799135 0.5441231  ... 0.46097186 0.57747877\n",
      "    0.58119375]\n",
      "   [0.5414681  0.55225474 0.49913365 ... 0.46411902 0.5685459\n",
      "    0.46257868]\n",
      "   [0.5163146  0.5065282  0.54325366 ... 0.45281696 0.46167785\n",
      "    0.52811193]]\n",
      "\n",
      "  [[0.5921093  0.5416027  0.45219016 ... 0.45516983 0.5367677\n",
      "    0.502005  ]\n",
      "   [0.5213319  0.46886846 0.5552722  ... 0.47244543 0.5671779\n",
      "    0.49043426]\n",
      "   [0.5683518  0.48975265 0.54483056 ... 0.55298424 0.5822785\n",
      "    0.5689519 ]\n",
      "   ...\n",
      "   [0.49294832 0.5378578  0.47811165 ... 0.46926853 0.4905517\n",
      "    0.52759445]\n",
      "   [0.5708565  0.44834596 0.5698165  ... 0.51715595 0.5574645\n",
      "    0.4902596 ]\n",
      "   [0.46501598 0.53745675 0.5097776  ... 0.5313114  0.543303\n",
      "    0.45565972]]]]\n",
      "\n",
      "Number of Filters = 32\n",
      "\n",
      "All the Filters:\n"
     ]
    },
    {
     "data": {
      "image/png": "[encoded data removed]",
      "text/plain": [
       "<Figure size 5000x5000 with 32 Axes>"
      ]
     },
     "metadata": {
      "needs_background": "light"
     },
     "output_type": "display_data"
    },
    {
     "data": {
      "text/plain": [
       "()"
      ]
     },
     "execution_count": 49,
     "metadata": {},
     "output_type": "execute_result"
    }
   ],
   "source": [
    "print(\"Фильтры _ обучения ИНС:\\n\")\n",
    "print(\"1) после:\\n\")\n",
    "Filters(model_1.layers[0])"
   ]
  },
  {
   "cell_type": "code",
   "execution_count": 64,
   "metadata": {},
   "outputs": [],
   "source": [
    "#"
   ]
  },
  {
   "cell_type": "code",
   "execution_count": 50,
   "metadata": {},
   "outputs": [],
   "source": [
    "#model1 = tf.keras.Sequential()\n",
    "#model1.add(Layer_1_Conv2D)\n",
    "#model1.add(Layer_2_Pool)\n",
    "#model1.add(Layer_3_Flat)\n",
    "#model1.add(Layer_4_ReLU)\n",
    "#model1.add(Layer_5_SoftMax)\n",
    "\n",
    "#ML1 = model1.layers\n",
    "#print(\"Model1 Layers:\", len(ML1))\n",
    "#print(\":\", ML1)"
   ]
  },
  {
   "cell_type": "code",
   "execution_count": 53,
   "metadata": {},
   "outputs": [],
   "source": [
    "model_0.build(input_shape = (0, 28, 28, 1)) #"
   ]
  },
  {
   "cell_type": "code",
   "execution_count": 54,
   "metadata": {},
   "outputs": [],
   "source": [
    "model_0.compile(optimizer = 'rmsprop', loss = 'categorical_crossentropy', metrics = ['accuracy'])"
   ]
  },
  {
   "cell_type": "code",
   "execution_count": 56,
   "metadata": {},
   "outputs": [
    {
     "name": "stdout",
     "output_type": "stream",
     "text": [
      "Number of Epochs = 0\n",
      "\n"
     ]
    },
    {
     "data": {
      "text/plain": [
       "<keras.callbacks.History at 0x3a670bb0>"
      ]
     },
     "execution_count": 56,
     "metadata": {},
     "output_type": "execute_result"
    }
   ],
   "source": [
    "epochs_n = 0\n",
    "print(\"Number of Epochs =\", epochs_n)\n",
    "print()\n",
    "model_0.fit(x = new_X_train, y = new_a_Y_train, epochs = epochs_n,  batch_size = 0)"
   ]
  },
  {
   "cell_type": "code",
   "execution_count": 57,
   "metadata": {},
   "outputs": [],
   "source": [
    "# <keras.callbacks.History at 0x1e9958e0>"
   ]
  },
  {
   "cell_type": "code",
   "execution_count": 59,
   "metadata": {
    "scrolled": true
   },
   "outputs": [
    {
     "name": "stdout",
     "output_type": "stream",
     "text": [
      "Model_0 Summary:\n",
      "\n",
      "Model: \"sequential_2\"\n",
      "_________________________________________________________________\n",
      " Layer (type)                Output Shape              Param #   \n",
      "=================================================================\n",
      " conv2d_2 (Conv2D)           (0, 28, 28, 32)           544       \n",
      "                                                                 \n",
      " max_pooling2d_2 (MaxPooling  (0, 14, 14, 32)          0         \n",
      " 2D)                                                             \n",
      "                                                                 \n",
      " flatten_2 (Flatten)         (0, 6272)                 0         \n",
      "                                                                 \n",
      " dense_4 (Dense)             (0, 128)                  802944    \n",
      "                                                                 \n",
      " dense_5 (Dense)             (0, 10)                   1290      \n",
      "                                                                 \n",
      "=================================================================\n",
      "Total params: 804,778\n",
      "Trainable params: 804,778\n",
      "Non-trainable params: 0\n",
      "_________________________________________________________________\n"
     ]
    }
   ],
   "source": [
    "print(\"Model_0 Summary:\\n\")\n",
    "model_0.summary()"
   ]
  },
  {
   "cell_type": "code",
   "execution_count": 61,
   "metadata": {},
   "outputs": [
    {
     "name": "stdout",
     "output_type": "stream",
     "text": [
      "Фильтры _ обучения ИНС:\n",
      "\n",
      "0) до:\n",
      "\n",
      "\n",
      "2D Convolutional Layer Name: conv2d_2\n",
      "Filter Shape: (4, 4, 1, 32)\n",
      "\n",
      "filters_L:\n",
      "[[[[-0.09814546  0.01568388 -0.10279022  0.01488703  0.00105276\n",
      "    -0.06631043  0.04027154 -0.09516607  0.10579129  0.06631005\n",
      "    -0.03724965 -0.10249743  0.09188528 -0.00169381  0.08251691\n",
      "    -0.06088503 -0.04077052 -0.06113103 -0.06407869  0.08750015\n",
      "     0.06847773 -0.08418749  0.09201956 -0.05716575 -0.02971157\n",
      "    -0.05212459  0.00158491 -0.01300763  0.05967142  0.10004789\n",
      "    -0.07483619 -0.0538277 ]]\n",
      "\n",
      "  [[-0.0140885   0.0398062  -0.0557436  -0.04100911 -0.05177019\n",
      "    -0.02916798  0.08445212  0.02158082 -0.02650753  0.00612348\n",
      "     0.09363773 -0.05802935  0.10090429 -0.01039913 -0.08436863\n",
      "     0.09781685 -0.03838768 -0.06508899 -0.08882973  0.03034441\n",
      "    -0.09742582  0.05924575  0.02257611 -0.10163739  0.03195034\n",
      "    -0.0476755  -0.00655507  0.00753676 -0.06295279  0.00066888\n",
      "     0.05393219  0.05324441]]\n",
      "\n",
      "  [[ 0.03902312 -0.05849724  0.09911801  0.02698985 -0.08107976\n",
      "    -0.02666041  0.01949155 -0.04945906 -0.02078086 -0.00493257\n",
      "     0.02576944  0.03958318 -0.04465415 -0.0962504   0.00972695\n",
      "    -0.08775649 -0.04128963 -0.1028873  -0.04883399  0.05024275\n",
      "     0.10445912  0.00352012 -0.09228205  0.07776634 -0.04498918\n",
      "    -0.08729057  0.04015362 -0.0641266  -0.08510494  0.01730997\n",
      "     0.05427167 -0.07518166]]\n",
      "\n",
      "  [[ 0.10359779 -0.05982098 -0.07582231 -0.1007934  -0.02388524\n",
      "     0.03610389 -0.07277603  0.07999441  0.01717354 -0.09214562\n",
      "     0.09305577  0.0506573  -0.09871288  0.08027434  0.06460893\n",
      "    -0.066879    0.00670878  0.00385714  0.01432746 -0.06616612\n",
      "     0.03544955 -0.09245256  0.07438374  0.01003247  0.0917529\n",
      "     0.03698862  0.0744089   0.0503837   0.0277347   0.02612427\n",
      "     0.10621293  0.0606048 ]]]\n",
      "\n",
      "\n",
      " [[[-0.04276007  0.04656692  0.03425692 -0.01396646  0.0022788\n",
      "    -0.0336082   0.09089921  0.03898802 -0.06383631  0.03724495\n",
      "    -0.00829435  0.10231073 -0.01790894  0.0249671  -0.05080966\n",
      "    -0.01517349  0.00288578  0.10454196 -0.05858729 -0.05083007\n",
      "     0.04542613  0.05614094  0.08086802 -0.03926647  0.03237534\n",
      "     0.04871535  0.06577361  0.01398531 -0.01770221  0.05038637\n",
      "    -0.08578809  0.02759671]]\n",
      "\n",
      "  [[-0.00465567  0.02643716 -0.07175433  0.01417029 -0.00296693\n",
      "     0.08213857  0.05123799  0.04017065  0.07297626  0.09276807\n",
      "    -0.01880953 -0.08813167  0.0382265  -0.07585428 -0.09195787\n",
      "    -0.0262395  -0.06231585  0.10383426 -0.0848502  -0.06284203\n",
      "    -0.01064274 -0.01892436  0.09753275  0.03585607  0.01198214\n",
      "    -0.01136622 -0.03026196 -0.01131628 -0.01265644 -0.0943972\n",
      "    -0.04818818 -0.03143558]]\n",
      "\n",
      "  [[ 0.09672917 -0.06058554 -0.09747329 -0.10401548  0.09118935\n",
      "     0.05041559 -0.00756167  0.0499054  -0.00543538 -0.08694835\n",
      "     0.04111443  0.07835415 -0.09854006 -0.02199902  0.02460255\n",
      "     0.05362354  0.00765777 -0.07103924  0.07933816  0.07230508\n",
      "    -0.03523527 -0.02696832 -0.00999648  0.06258067 -0.01057339\n",
      "     0.08250661 -0.10260247  0.00022427 -0.02453389 -0.08625352\n",
      "    -0.09323653  0.0759439 ]]\n",
      "\n",
      "  [[ 0.07631697 -0.06302807  0.02702184  0.05873175 -0.05671607\n",
      "     0.01569631 -0.06997675  0.05607682  0.09203072  0.03904104\n",
      "     0.10400365 -0.02836403  0.07720582  0.04383747 -0.01616289\n",
      "    -0.09840157 -0.05335782  0.07902397 -0.00337645  0.10268363\n",
      "    -0.0304985  -0.08607078 -0.04673538 -0.04253196 -0.06567728\n",
      "     0.02929696  0.04684682 -0.04423444  0.03341018 -0.04644536\n",
      "    -0.09761867  0.02792084]]]\n",
      "\n",
      "\n",
      " [[[-0.0696453   0.07332447  0.06484763  0.00475923 -0.10317684\n",
      "    -0.10171984 -0.01925199 -0.04425005  0.09055746  0.0439041\n",
      "    -0.0091586  -0.05789063  0.06452201 -0.01757508 -0.05613363\n",
      "     0.00977219 -0.0927179  -0.00697259  0.07781102 -0.08138551\n",
      "     0.00140294  0.02095541  0.03865446  0.08469674  0.08332455\n",
      "     0.01410443 -0.09766099  0.10065305 -0.01274727  0.04956552\n",
      "     0.06004871  0.04888134]]\n",
      "\n",
      "  [[ 0.08203025  0.0814493   0.04474829  0.02104805 -0.10580289\n",
      "    -0.09494565  0.09855257 -0.05375695 -0.08150039  0.04245543\n",
      "    -0.06901583 -0.09150568  0.05281162 -0.03734817 -0.0609703\n",
      "    -0.00596865  0.06466228 -0.05551832  0.06036912  0.02832812\n",
      "     0.044976   -0.10379045 -0.0100118  -0.00191183  0.05318573\n",
      "     0.05020271 -0.10233912  0.00533766 -0.03341768 -0.03219486\n",
      "     0.06443012 -0.01379101]]\n",
      "\n",
      "  [[ 0.00171735 -0.03049871  0.06538011 -0.000185   -0.01254677\n",
      "    -0.01957452 -0.03125596  0.03468883 -0.09669182 -0.05587602\n",
      "    -0.08308014  0.03639521  0.02222161 -0.08074211 -0.0686954\n",
      "    -0.07722707  0.09091257 -0.009452   -0.09813697  0.01959985\n",
      "     0.04069975 -0.01200588 -0.00738839 -0.0197573  -0.08408606\n",
      "     0.00063661 -0.0194925   0.03817241  0.03848477 -0.04319736\n",
      "     0.09973761 -0.00388374]]\n",
      "\n",
      "  [[ 0.02691957  0.09844182 -0.08699845 -0.07268657 -0.10482341\n",
      "     0.0244548   0.05690578 -0.03089941  0.07376955 -0.04029013\n",
      "     0.10364939 -0.05544223  0.01117937  0.00166558 -0.08647507\n",
      "    -0.07191809  0.01583678 -0.03002141  0.07028764 -0.0245003\n",
      "     0.04069607 -0.02440605  0.07336359 -0.09085926 -0.04247732\n",
      "    -0.00647272 -0.10341666 -0.03097362  0.08335948  0.0599898\n",
      "    -0.03858915 -0.03307018]]]\n",
      "\n",
      "\n",
      " [[[-0.01741521  0.07779278 -0.07148845  0.06802674 -0.04521551\n",
      "    -0.0628759   0.02156608  0.05066355  0.06194    -0.08032344\n",
      "     0.0259472   0.09732947  0.02203675 -0.05926088  0.06916873\n",
      "     0.06280111  0.05962579 -0.06294306 -0.01810347 -0.0790945\n",
      "     0.07422827  0.05273888  0.1050109  -0.00815772 -0.02821688\n",
      "    -0.06748694 -0.00188583  0.02962263 -0.0575144   0.01985268\n",
      "     0.00013902  0.05970664]]\n",
      "\n",
      "  [[-0.01317479 -0.08251764 -0.05892959  0.05009127 -0.03327258\n",
      "    -0.05420782  0.00044688 -0.04497986  0.05788645  0.02946319\n",
      "    -0.02983188  0.00312504 -0.00462499  0.09536669  0.02309875\n",
      "    -0.04005548  0.03729536 -0.01403986 -0.02938703 -0.06782435\n",
      "    -0.07602085  0.03152002  0.06134567  0.10024692 -0.07529885\n",
      "     0.00299438 -0.09463573  0.04361054 -0.04892688 -0.06077508\n",
      "    -0.01853283 -0.10650109]]\n",
      "\n",
      "  [[ 0.0406934  -0.04940332  0.01599995  0.08286847 -0.09392997\n",
      "    -0.0354313  -0.03987627  0.06879143 -0.09974442 -0.05783514\n",
      "    -0.04403363 -0.04309402  0.01194348 -0.01170694  0.09137955\n",
      "    -0.06127546 -0.00503644  0.09148996 -0.05571369  0.02822717\n",
      "     0.0139079   0.05435038 -0.07899147 -0.08475466 -0.0630226\n",
      "    -0.07695696  0.0534575   0.08590756 -0.02498949 -0.09347808\n",
      "     0.02792996  0.09143126]]\n",
      "\n",
      "  [[ 0.07332814 -0.08195698 -0.07418177 -0.07263495 -0.08114762\n",
      "    -0.09291294 -0.03858122 -0.09381676 -0.02928169 -0.08417285\n",
      "    -0.03829984  0.05255347  0.00499227  0.05032174 -0.05657021\n",
      "    -0.06277658 -0.00068246  0.10653171 -0.10479467 -0.10067128\n",
      "     0.05339554 -0.01895181  0.03640144 -0.06443497 -0.00606745\n",
      "    -0.02020299 -0.06737059  0.03676851  0.09548987 -0.02714854\n",
      "     0.07528231  0.09133558]]]]\n",
      "\n",
      "bias_L:\n",
      "[0. 0. 0. 0. 0. 0. 0. 0. 0. 0. 0. 0. 0. 0. 0. 0. 0. 0. 0. 0. 0. 0. 0. 0.\n",
      " 0. 0. 0. 0. 0. 0. 0. 0.]\n",
      "\n",
      "Normalized filters_L:\n",
      "[[[[0.03922228 0.57355005 0.01741922 0.5698095  0.5048699  0.18865949\n",
      "    0.6889673  0.05320784 0.9965244  0.81119496 0.32507405 0.01879363\n",
      "    0.931248   0.49197716 0.8872718  0.21412691 0.30854672 0.2129722\n",
      "    0.19913553 0.9106637  0.82137036 0.10474253 0.9318783  0.23158565\n",
      "    0.36045867 0.25524944 0.50736785 0.43886882 0.7800325  0.9695642\n",
      "    0.14863862 0.24725482]]\n",
      "\n",
      "  [[0.4337951  0.68678296 0.23826137 0.30742672 0.256913   0.36301035\n",
      "    0.8963559  0.6012309  0.37549877 0.52867246 0.9394742  0.22753182\n",
      "    0.97358423 0.45111343 0.10389225 0.9590915  0.31973204 0.19439307\n",
      "    0.08295133 0.6423682  0.04260034 0.7780344  0.6059029  0.02283073\n",
      "    0.64990664 0.27613395 0.4691579  0.5353065  0.20442064 0.503068\n",
      "    0.75309193 0.7498634 ]]\n",
      "\n",
      "  [[0.683107   0.22533546 0.96519923 0.62662154 0.11933059 0.3747812\n",
      "    0.5914237  0.26776174 0.4023804  0.4767741  0.6208928  0.685736\n",
      "    0.2903165  0.04811788 0.54558754 0.08798925 0.30610996 0.01696351\n",
      "    0.27069587 0.73577327 0.99027103 0.516452   0.06674577 0.8649721\n",
      "    0.28874382 0.09017634 0.68841374 0.19891065 0.10043592 0.5811831\n",
      "    0.75468546 0.14701691]]\n",
      "\n",
      "  [[0.98622787 0.21912168 0.14400965 0.02679254 0.38780814 0.66940385\n",
      "    0.1583092  0.87543094 0.5805426  0.06738618 0.9367424  0.73771924\n",
      "    0.03655871 0.876745   0.8032097  0.18599057 0.5314199  0.518034\n",
      "    0.56718284 0.1893369  0.6663323  0.06594536 0.8490938  0.5470217\n",
      "    0.93062663 0.67355686 0.84921193 0.73643494 0.63011795 0.6225584\n",
      "    0.9985036  0.7844139 ]]]\n",
      "\n",
      "\n",
      " [[[0.29920754 0.7185185  0.660734   0.434368   0.5106251  0.34216747\n",
      "    0.9266193  0.68294233 0.2002733  0.6747601  0.4609935  0.9801863\n",
      "    0.41586155 0.6171265  0.26142183 0.42870206 0.5134743  0.9906599\n",
      "    0.22491278 0.26132601 0.7131635  0.76346004 0.87953174 0.31560686\n",
      "    0.6519016  0.7286035  0.80867684 0.5655768  0.41683197 0.73644745\n",
      "    0.09722917 0.6294702 ]]\n",
      "\n",
      "  [[0.4780739  0.62402713 0.1631052  0.56644505 0.486001   0.88549584\n",
      "    0.740445   0.6884937  0.8424869  0.93539196 0.41163406 0.0862281\n",
      "    0.67936766 0.14385958 0.06826749 0.37675697 0.2074105  0.9873378\n",
      "    0.10163172 0.20494056 0.4499699  0.41109502 0.9577579  0.66824055\n",
      "    0.5561737  0.44657382 0.35787505 0.44680825 0.44051737 0.05681701\n",
      "    0.2737274  0.35236597]]\n",
      "\n",
      "  [[0.9539858  0.21553278 0.04237748 0.01166774 0.92798126 0.7365846\n",
      "    0.4644328  0.73418975 0.4744138  0.09178276 0.6929239  0.86773133\n",
      "    0.03736996 0.39666224 0.6154153  0.75164306 0.53587455 0.16646193\n",
      "    0.8723504  0.83933634 0.3345298  0.3733358  0.45300353 0.7936889\n",
      "    0.45029545 0.8872235  0.01830053 0.50098085 0.38476327 0.09504438\n",
      "    0.06226534 0.85641736]]\n",
      "\n",
      "  [[0.8581686  0.20406726 0.6267717  0.7756216  0.23369648 0.5736084\n",
      "    0.17144938 0.7631591  0.9319307  0.6831912  0.988133   0.36678416\n",
      "    0.862341   0.7057062  0.42405772 0.03802006 0.24946049 0.8708756\n",
      "    0.4840787  0.9819367  0.3567647  0.09590215 0.280547   0.3002783\n",
      "    0.19163157 0.6374514  0.7198324  0.29228666 0.65675926 0.28190836\n",
      "    0.04169507 0.6309917 ]]]\n",
      "\n",
      "\n",
      " [[[0.17300522 0.84412146 0.8043302  0.5222685  0.01560439 0.02244371\n",
      "    0.4095571  0.2922134  0.92501503 0.7060189  0.4569366  0.22818299\n",
      "    0.8028017  0.41742873 0.23643054 0.5457999  0.06469984 0.467198\n",
      "    0.8651818  0.11789536 0.50651366 0.5982952  0.6813765  0.8975042\n",
      "    0.891063   0.56613594 0.04149642 0.9724049  0.44009098 0.7325943\n",
      "    0.78180355 0.72938263]]\n",
      "\n",
      "  [[0.8849874  0.8822603  0.7099817  0.5987301  0.0032774  0.05424254\n",
      "    0.96254504 0.24758694 0.11735611 0.69921875 0.17596003 0.07039012\n",
      "    0.7478318  0.32461163 0.21372665 0.4719106  0.8034602  0.23931888\n",
      "    0.7833076  0.6329035  0.7110505  0.01272405 0.4529316  0.49095377\n",
      "    0.74958795 0.73558533 0.01953675 0.5249837  0.34306177 0.34880182\n",
      "    0.80237037 0.43519157]]\n",
      "\n",
      "  [[0.5079896  0.35676375 0.80682975 0.49905974 0.44103217 0.40804315\n",
      "    0.3532091  0.6627614  0.04604582 0.2376398  0.1099406  0.67077136\n",
      "    0.60423887 0.12091553 0.17746419 0.13741554 0.926682   0.45555937\n",
      "    0.03926212 0.59193206 0.69097733 0.44357118 0.4652462  0.40718514\n",
      "    0.10521866 0.50291646 0.40842813 0.67911375 0.68057996 0.2971548\n",
      "    0.96810776 0.4816974 ]]\n",
      "\n",
      "  [[0.62629163 0.96202517 0.09154759 0.15872917 0.00787521 0.6147217\n",
      "    0.76705027 0.3548828  0.8462107  0.31080168 0.9864701  0.23967606\n",
      "    0.55240536 0.5077465  0.0940044  0.16233651 0.5742678  0.35900426\n",
      "    0.8298663  0.38492098 0.69096005 0.38536337 0.8443051  0.07342449\n",
      "    0.3005348  0.46954444 0.01447866 0.35453445 0.89122695 0.781527\n",
      "    0.3187863  0.34469298]]]\n",
      "\n",
      "\n",
      " [[[0.41817915 0.8650962  0.16435325 0.8192533  0.28768143 0.20478153\n",
      "    0.6011617  0.7377485  0.7906815  0.12288082 0.6217272  0.9568036\n",
      "    0.6033711  0.22175087 0.824614   0.79472363 0.7798183  0.20446631\n",
      "    0.4149484  0.12864962 0.848364   0.74749035 0.99286115 0.4616349\n",
      "    0.3674749  0.1831368  0.4910758  0.6389801  0.22994904 0.59311885\n",
      "    0.5005807  0.78019786]]\n",
      "\n",
      "  [[0.4380842  0.11258101 0.22330599 0.7350622  0.34374288 0.24547052\n",
      "    0.50202584 0.2887876  0.77165365 0.63823164 0.35989392 0.5145974\n",
      "    0.47821793 0.9475901  0.6083563  0.3119032  0.67499673 0.43402344\n",
      "    0.36198208 0.18155298 0.14307767 0.6478867  0.7878916  0.9704985\n",
      "    0.14646685 0.5139841  0.05569731 0.7046409  0.27025983 0.21464303\n",
      "    0.4129329  0.        ]]\n",
      "\n",
      "  [[0.69094753 0.26802337 0.5750337  0.8889221  0.05901025 0.33360958\n",
      "    0.31274444 0.8228429  0.03171654 0.22844344 0.29322928 0.2976399\n",
      "    0.5559922  0.44497442 0.9288741  0.21229419 0.47628653 0.92939234\n",
      "    0.23840179 0.63242966 0.5652134  0.75505495 0.12913324 0.10208018\n",
      "    0.20409293 0.13868348 0.7508637  0.90318793 0.38262463 0.06113148\n",
      "    0.6310345  0.9291168 ]]\n",
      "\n",
      "  [[0.8441387  0.11521284 0.15171054 0.15897147 0.11901204 0.06378429\n",
      "    0.31882352 0.05954164 0.36247656 0.10481126 0.32014433 0.74662006\n",
      "    0.5233624  0.73614407 0.23438115 0.20524777 0.4967246  1.\n",
      "    0.00801014 0.02736579 0.7505728  0.4109662  0.67080057 0.19746311\n",
      "    0.47144684 0.405093   0.183683   0.6725237  0.9481684  0.37248984\n",
      "    0.8533118  0.92866766]]]]\n",
      "\n",
      "Number of Filters = 32\n",
      "\n",
      "All the Filters:\n"
     ]
    },
    {
     "data": {
      "image/png": "[encoded data removed]",
      "text/plain": [
       "<Figure size 5000x5000 with 32 Axes>"
      ]
     },
     "metadata": {
      "needs_background": "light"
     },
     "output_type": "display_data"
    },
    {
     "data": {
      "text/plain": [
       "()"
      ]
     },
     "execution_count": 61,
     "metadata": {},
     "output_type": "execute_result"
    }
   ],
   "source": [
    "print(\"Фильтры _ обучения ИНС:\\n\")\n",
    "print(\"0) до:\\n\")\n",
    "Filters(model_0.layers[0])"
   ]
  },
  {
   "cell_type": "markdown",
   "metadata": {},
   "source": [
    "**Вывод:**\n",
    "<br>\n",
    "Судя по отрисованным фильтрам на `1`-м свёрточном слое `Conv2D` до и после обучения модели, они отличаются друг от друга.\n",
    "<br>\n",
    "`model_0` - необученная модель (`(epochs = 0) & (batch_size = 0)`), а `model_1` - такая же по архитектуре, но уже обученная.\n",
    "<br>\n",
    "У них разное число параметров.\n",
    "<br>\n",
    "Точность необученной модели не может быть достаточной для совершения предсказаний."
   ]
  },
  {
   "cell_type": "code",
   "execution_count": null,
   "metadata": {},
   "outputs": [],
   "source": []
  }
 ],
 "metadata": {
  "kernelspec": {
   "display_name": "Python 3",
   "language": "python",
   "name": "python3"
  },
  "language_info": {
   "codemirror_mode": {
    "name": "ipython",
    "version": 3
   },
   "file_extension": ".py",
   "mimetype": "text/x-python",
   "name": "python",
   "nbconvert_exporter": "python",
   "pygments_lexer": "ipython3",
   "version": "3.8.0"
  }
 },
 "nbformat": 4,
 "nbformat_minor": 2
}
